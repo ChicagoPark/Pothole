{
  "nbformat": 4,
  "nbformat_minor": 0,
  "metadata": {
    "colab": {
      "name": "json_parsing.ipynb",
      "private_outputs": true,
      "provenance": [],
      "collapsed_sections": [],
      "include_colab_link": true
    },
    "kernelspec": {
      "name": "python3",
      "display_name": "Python 3"
    },
    "language_info": {
      "name": "python"
    },
    "accelerator": "TPU"
  },
  "cells": [
    {
      "cell_type": "markdown",
      "metadata": {
        "id": "view-in-github",
        "colab_type": "text"
      },
      "source": [
        "<a href=\"https://colab.research.google.com/github/ChicagoPark/chicago_work/blob/main/json_parsing.ipynb\" target=\"_parent\"><img src=\"https://colab.research.google.com/assets/colab-badge.svg\" alt=\"Open In Colab\"/></a>"
      ]
    },
    {
      "cell_type": "markdown",
      "metadata": {
        "id": "XjT6N8qAN-OU"
      },
      "source": [
        "# 필요 라이브러리 Import"
      ]
    },
    {
      "cell_type": "code",
      "metadata": {
        "id": "sky1Om1YN1th"
      },
      "source": [
        "import os\n",
        "import json\n",
        "\n",
        "import numpy as np\n",
        "import matplotlib.pyplot as plt"
      ],
      "execution_count": null,
      "outputs": []
    },
    {
      "cell_type": "markdown",
      "metadata": {
        "id": "jiyWeivjODXF"
      },
      "source": [
        "# 구글 드라이브 마운트"
      ]
    },
    {
      "cell_type": "code",
      "metadata": {
        "id": "6GEWVOVSJNGw"
      },
      "source": [
        "from google.colab import drive\n",
        "drive.mount('/content/drive')"
      ],
      "execution_count": null,
      "outputs": []
    },
    {
      "cell_type": "code",
      "metadata": {
        "id": "WOdJWS6rJhWo"
      },
      "source": [
        "#cd drive/MyDrive/Colab\\ Notebooks/빅데이터및AI/"
      ],
      "execution_count": null,
      "outputs": []
    },
    {
      "cell_type": "code",
      "metadata": {
        "id": "1tzwoJQ7Jp8e"
      },
      "source": [
        "ls"
      ],
      "execution_count": null,
      "outputs": []
    },
    {
      "cell_type": "markdown",
      "metadata": {
        "id": "nCFpbsD1OLNo"
      },
      "source": [
        "## 주석, 이미지 압축 파일 해제"
      ]
    },
    {
      "cell_type": "code",
      "metadata": {
        "id": "5kCt1dJQJroC"
      },
      "source": [
        "'''\n",
        "!unzip Annotations.zip -d Annotations\n",
        "!zip -FFv Images.zip --out Images_.zip\n",
        "!unzip Images_.zip -d Images\n",
        "'''\n",
        "!unzip \"/content/drive/MyDrive/Colab Notebooks/빅데이터및AI/Annotations.zip\" -d \"/content/Annotations\"\n",
        "!unzip \"/content/drive/MyDrive/Colab Notebooks/빅데이터및AI/Images_.zip\" -d \"/content/Images\""
      ],
      "execution_count": null,
      "outputs": []
    },
    {
      "cell_type": "code",
      "metadata": {
        "id": "Tl2wBAEALhh7"
      },
      "source": [
        "ls"
      ],
      "execution_count": null,
      "outputs": []
    },
    {
      "cell_type": "markdown",
      "metadata": {
        "id": "X3Kjir7KOZAZ"
      },
      "source": [
        "## 주석, 이미지 파일 확인"
      ]
    },
    {
      "cell_type": "code",
      "metadata": {
        "id": "Hc5QlG1TNlLf"
      },
      "source": [
        "# \"Annotations/\" 에 있는 파일 불러오기\n",
        "annots = os.listdir('Annotations')    # Annotations 에 있는 모든 파일명들이 list 로 저장이 된다.\n",
        "# \"Images/\" 에 있는 파일 불러오기\n",
        "images = os.listdir('Images/Images')  # Annotations 에 있는 모든 파일명들이 list 로 저장이 된다.\n",
        "\n",
        "annots = sorted(annots)               # sorted 파일명을 받아온다.\n",
        "images = sorted(images)\n",
        "\n",
        "print(len(annots), len(images))"
      ],
      "execution_count": null,
      "outputs": []
    },
    {
      "cell_type": "code",
      "metadata": {
        "id": "mdWs5ObmNz5I"
      },
      "source": [
        "# 주석 파일 오픈\n",
        "# annoations 는 json 형태로 저장이 되어있다. json : 딕셔너리 형태로 key 와 value 가 정해져있는 것\n",
        "with open(f'Annotations/{annots[0]}') as f:\n",
        "  json_file = json.load(f)                  # json_file 에 딕셔너리 형태로 파일을 읽어온다."
      ],
      "execution_count": null,
      "outputs": []
    },
    {
      "cell_type": "code",
      "metadata": {
        "id": "INleYQbVOnV4"
      },
      "source": [
        "# 주석 파일은 Dictionary 타입으로, key와 value로 이루어짐\n",
        "# key 값 확인\n",
        "json_file.keys()"
      ],
      "execution_count": null,
      "outputs": []
    },
    {
      "cell_type": "code",
      "metadata": {
        "id": "9AZcJIBOOotp"
      },
      "source": [
        "# 'info' value 확인\n",
        "json_file['info']"
      ],
      "execution_count": null,
      "outputs": []
    },
    {
      "cell_type": "code",
      "metadata": {
        "id": "mSJMiDUzpde_"
      },
      "source": [
        "# 'images' value 확인\n",
        "json_file['images']"
      ],
      "execution_count": null,
      "outputs": []
    },
    {
      "cell_type": "code",
      "metadata": {
        "id": "EbGFYZD4Oy9r"
      },
      "source": [
        "# 'annotations' value 확인\n",
        "json_file['annotations']"
      ],
      "execution_count": null,
      "outputs": []
    },
    {
      "cell_type": "code",
      "metadata": {
        "id": "qsrEmifwOrv-"
      },
      "source": [
        "# 'categories' value 확인\n",
        "json_file['categories']"
      ],
      "execution_count": null,
      "outputs": []
    },
    {
      "cell_type": "code",
      "metadata": {
        "id": "CruAroaRO2Ji"
      },
      "source": [
        "# 이미지 파일 오픈\n",
        "from PIL import Image\n",
        "Image.open(f'Images/Images/{images[0]}')"
      ],
      "execution_count": null,
      "outputs": []
    },
    {
      "cell_type": "markdown",
      "metadata": {
        "id": "U3rHvlSjqQ3v"
      },
      "source": [
        "### 이미지에 주석 적용하여 객체 bounding box 표시하기\n",
        "\n",
        "- PIL 라이브러리의 ImageDraw 모듈 활용\n",
        "- json의 'annotations' value 이용\n",
        "\n",
        "- 정답 예시\n",
        "\n",
        "![image](https://raw.githubusercontent.com/pyeon9/Lecture-BigData-AI/main/image_annotation.png?token=AL7QGG622SZFU32VNRUB4F3BSHPMA)\n"
      ]
    },
    {
      "cell_type": "code",
      "metadata": {
        "id": "aLMTxKL4PJPO"
      },
      "source": [
        "# 이미지에 주석 적용\n",
        "from PIL import ImageDraw\n",
        "\n",
        "# image 객체를 만들어준다.\n",
        "img_open = Image.open(f'Images/Images/{images[0]}').convert('RGBA')\n",
        "with open(f'Annotations/{annots[0]}') as f:\n",
        "  json_file = json.load(f)\n",
        "\n",
        "# your code here\n",
        "''' rectangle 에 명시해줄 shape 좌표\n",
        "coordinates = [(x1, y1), (x2, y2)]\n",
        "\n",
        "    (x1, y1)\n",
        "        *--------------\n",
        "        |             |\n",
        "        |             |\n",
        "        |             |\n",
        "        |             |\n",
        "        |             |\n",
        "        |             |\n",
        "        --------------*\n",
        "                      (x2, y2)\n",
        "'''\n",
        "\n",
        "# 1. 0 번째 annot 파일에 몇개의 객체가 인식이 되었는지 확인\n",
        "num_object = len(json_file['annotations'])\n",
        "# 2. bounding boxes plotting 작업을 위한 라인\n",
        "draw = ImageDraw.Draw(img_open)\n",
        "\n",
        "# 3. 해당 이미지 내에 인식된 물체의 수만큼 반복문을 돌도록 설계\n",
        "for i in range(num_object):\n",
        "  image_x = json_file['annotations'][i]['bbox'][0]\n",
        "  image_y = json_file['annotations'][i]['bbox'][1]\n",
        "  width = json_file['annotations'][i]['bbox'][2]\n",
        "  height = json_file['annotations'][i]['bbox'][3]\n",
        "\n",
        "  shape = [(image_x, image_y), (image_x + width), (image_y + height)]\n",
        "  # 최대한 정답과 비슷한 컬러와 bounding box 선의 굵기를 조절\n",
        "  draw.rectangle(shape, outline =\"#FF00FF\", width=6)\n",
        "  \n",
        "# image 를 출력해주는 코드\n",
        "plt.figure(figsize=(20,10))\n",
        "plt.imshow(np.array(img_open))\n",
        "plt.show()"
      ],
      "execution_count": null,
      "outputs": []
    },
    {
      "cell_type": "markdown",
      "metadata": {
        "id": "hbZOwaGkPzoz"
      },
      "source": [
        "# 카테고리에 따라 파일 분류\n",
        "\n",
        "- 7 : Stones on road\n",
        "- 8 : Pothole on road\n",
        "- 9 : Filled pothole\n",
        "- 중복은 제외   \n",
        "</br>\n",
        "- 주석 파일을 카테고리에 맞는 리스트에 append()"
      ]
    },
    {
      "cell_type": "code",
      "metadata": {
        "id": "wLyImASHPrXh"
      },
      "source": [
        "'''\n",
        "{'id': 7, 'name': 'Stones on road'},\n",
        "{'id': 8, 'name': 'Pothole on road'},\n",
        "{'id': 9, 'name': 'Filled pothole'},\n",
        "'''\n",
        "stone = []\n",
        "pothole = []\n",
        "filled = []\n",
        "'''\n",
        "with open(f'Annotations/{annots[0]}') as f:\n",
        "  json_file = json.load(f)\n",
        "print(json_file['annotations'][0]['category_id'])\n",
        "'''\n",
        "\n",
        "for a in annots:\n",
        "  # your code here\n",
        "  with open(f'Annotations/{a}') as f:\n",
        "    json_file = json.load(f)                  # json_file 에 딕셔너리 형태로 파일을 읽어온다.\n",
        "  \n",
        "  count = 0                                   # 중복 데이터를 제외시키기위한 count 를 추가\n",
        "  unique_id = 0                               # ID 가 7,8,9 인 경우 id 를 담기 위해\n",
        "  num_object = len(json_file['annotations'])\n",
        "  for i in range(num_object):\n",
        "    ID = json_file['annotations'][i]['category_id']\n",
        "    if ID == 7 or ID == 8 or ID == 9:\n",
        "      count += 1\n",
        "      unique_id = ID\n",
        "  if count == 1:                              # 데이터 중복이 없는 경우\n",
        "    if unique_id == 7:\n",
        "      stone.append(a)\n",
        "    if unique_id == 8:\n",
        "      pothole.append(a)\n",
        "    if unique_id == 9:\n",
        "      filled.append(a)"
      ],
      "execution_count": null,
      "outputs": []
    },
    {
      "cell_type": "code",
      "metadata": {
        "id": "6fL4rsvAP-51"
      },
      "source": [
        "print(len(stone), len(pothole), len(filled))"
      ],
      "execution_count": null,
      "outputs": []
    },
    {
      "cell_type": "markdown",
      "metadata": {
        "id": "r0C2lbqAQaD2"
      },
      "source": [
        "## 분류된 이미지 새 디렉토리로 복사\n",
        "- shutil 라이브러리의 copy() 함수 활용\n",
        "- `make_output_dir()` 함수로 디렉토리 구조를 생성\n",
        "- 주석 파일과 이미지 파일을 각각 \"Annotations/\"와 \"Images/\" 디렉토리로 복사"
      ]
    },
    {
      "cell_type": "code",
      "metadata": {
        "id": "bdy3QcHvQcQQ"
      },
      "source": [
        "# 주어진 디렉토리 아래 \"Annotations/\"와 \"Images/\"의 두 디렉토리 생성\n",
        "def make_output_dir(category):\n",
        "    os.makedirs(f'{category}/Annotations')\n",
        "    os.makedirs(f'{category}/Images/Images')    "
      ],
      "execution_count": null,
      "outputs": []
    },
    {
      "cell_type": "code",
      "metadata": {
        "id": "vuHgPAqPQejN"
      },
      "source": [
        "# 카테고리별 디렉토리 생성\n",
        "make_output_dir('0. stone')\n",
        "make_output_dir('1. pothole')\n",
        "make_output_dir('2. filled')"
      ],
      "execution_count": null,
      "outputs": []
    },
    {
      "cell_type": "code",
      "metadata": {
        "id": "PnQtvf8lwi9w"
      },
      "source": [
        "# 위에서 생성한 디렉토리에 주석 파일과 이미지 파일 이동\n",
        "import shutil\n",
        "\n",
        "def copy_files(json_lst, category):\n",
        "    for j in json_lst:\n",
        "        # your code here\n",
        "        with open(f'Annotations/{j}') as f:\n",
        "            json_file = json.load(f)\n",
        "\n",
        "        # json 파일명을 받는 코드    \n",
        "        annot_file_name = f\"{json_file['info']['description'].split()[0]}.json\"\n",
        "        \n",
        "        # image의 이름을 받아오는 코드\n",
        "        image_file_name = json_file['images']['file_name']\n",
        "        \n",
        "        shutil.copy(f'Annotations/{annot_file_name}', f'{category}/Annotations')\n",
        "        shutil.copy(f'Images/Images/{image_file_name}', f'{category}/Images')"
      ],
      "execution_count": null,
      "outputs": []
    },
    {
      "cell_type": "code",
      "metadata": {
        "id": "4GxoSycaQwkt"
      },
      "source": [
        "copy_files(stone, '0. stone')\n",
        "copy_files(pothole, '1. pothole')\n",
        "copy_files(filled, '2. filled')"
      ],
      "execution_count": null,
      "outputs": []
    },
    {
      "cell_type": "code",
      "metadata": {
        "id": "1LDh58YfQxr1"
      },
      "source": [
        "num_stone = os.listdir('0. stone/Images')\n",
        "num_pothole = os.listdir('1. pothole/Images')\n",
        "num_filled  = os.listdir('2. filled/Images')\n",
        "\n",
        "print(len(num_stone), len(num_pothole), len(num_filled))"
      ],
      "execution_count": null,
      "outputs": []
    },
    {
      "cell_type": "code",
      "metadata": {
        "id": "3aWfWNt3Ru6p"
      },
      "source": [
        "num_stone = os.listdir('0. stone/Annotations')\n",
        "num_pothole = os.listdir('1. pothole/Annotations')\n",
        "num_filled  = os.listdir('2. filled/Annotations')\n",
        "\n",
        "print(len(num_stone), len(num_pothole), len(num_filled))"
      ],
      "execution_count": null,
      "outputs": []
    }
  ]
}