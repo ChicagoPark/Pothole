{
  "nbformat": 4,
  "nbformat_minor": 0,
  "metadata": {
    "colab": {
      "name": "Model.ipynb",
      "provenance": [],
      "collapsed_sections": [],
      "mount_file_id": "1OitrNN5lPLulwKKkyHalkepWGENqFI8s",
      "authorship_tag": "ABX9TyPWWOBEhWwFuflBHan89QUg",
      "include_colab_link": true
    },
    "kernelspec": {
      "name": "python3",
      "display_name": "Python 3"
    },
    "language_info": {
      "name": "python"
    },
    "accelerator": "GPU"
  },
  "cells": [
    {
      "cell_type": "markdown",
      "metadata": {
        "id": "view-in-github",
        "colab_type": "text"
      },
      "source": [
        "<a href=\"https://colab.research.google.com/github/ChicagoPark/chicago_work/blob/main/Model.ipynb\" target=\"_parent\"><img src=\"https://colab.research.google.com/assets/colab-badge.svg\" alt=\"Open In Colab\"/></a>"
      ]
    },
    {
      "cell_type": "markdown",
      "metadata": {
        "id": "vmTlDeK12RjT"
      },
      "source": [
        "\n",
        "\n",
        "##    전체적 모델링 흐름\n",
        "\n",
        "*   본 프로젝트 분류를 위해 여러 차례 훈련했던 MobileNetV2 에서 Convolution layer 을 Feature extractor 으로 활용하고, 이에 뒤 뉴럴네트워크 연산 부분의 노드 구성을 달리하여 10개의 모델을 준비한다.\n",
        "\n",
        "*   \"---\" 를 컴퓨터 계산적으로 증명된 Hyper parameter 를 사용하기위해 Hyperparameter tuning 기법을 활용한다.\n",
        "\n",
        "## 본 Colab 모델링 목차\n",
        "\n",
        "\n",
        "1.   필요한 라이브러리 및 데이터 전처리\n",
        "2.   feature extractor 모델을 가져와서, 특징 추출기 자리에 넣고 freezing 하기\n",
        "3. 모델에 Opimizer, Loss 등을 명시하고, 훈련을 수행\n",
        "4. TensorBoard 를 활용한 훈련결과 시각화\n",
        "5. Test Set 에 대해 4X4 로 보여주는 결과\n",
        "\n",
        "## 본 Colab 부록\n",
        "\n",
        "\n",
        "1.   Hypertuning 진행\n",
        "2.   항목 추가\n",
        "\n",
        "Model 구조 : https://viscom.net2vis.uni-ulm.de/kDjvWN6kxJ8UBo6loBvuO0OoRQgKDSS5ndoGbdULXBSbbwdV7P\n",
        "\n"
      ]
    },
    {
      "cell_type": "code",
      "metadata": {
        "id": "v4J22AfOaVDZ"
      },
      "source": [
        "%%capture\n",
        "# Necessary Modules\n",
        "import numpy as np\n",
        "import tensorflow as tf\n",
        "import tensorflow_hub as hub\n",
        "import os\n",
        "from keras.preprocessing.image import ImageDataGenerator # Data Augmentation(Image transformations) 을 하기 위해 필요한 모듈\n",
        "\n",
        "import scipy\n",
        "import keras\n",
        "from tensorflow.keras.utils import plot_model\n",
        "! pip install keras_tuner\n",
        "import keras_tuner as kt\n",
        "import shutil\n",
        "#! pip install tensorflow-gpu\n",
        "\n",
        "#! pip3 install --upgrade tensorflow-gpu==1.8.0\n",
        "\n",
        "#!pip install -q gwpy # 너무 많이 출력되는 셀을 출력막기위해 "
      ],
      "execution_count": null,
      "outputs": []
    },
    {
      "cell_type": "code",
      "metadata": {
        "colab": {
          "base_uri": "https://localhost:8080/"
        },
        "id": "dEF-ca5xq3Qs",
        "outputId": "6c2d0596-f3d9-4d1c-e230-a9c936a49ec4"
      },
      "source": [
        "%tensorflow_version 2.x\n",
        "import tensorflow as tf\n",
        "device_name = tf.test.gpu_device_name()\n",
        "if device_name != '/device:GPU:0':\n",
        "  raise SystemError('GPU device not found')\n",
        "print('Found GPU at: {}'.format(device_name))"
      ],
      "execution_count": null,
      "outputs": [
        {
          "output_type": "stream",
          "name": "stdout",
          "text": [
            "Found GPU at: /device:GPU:0\n"
          ]
        }
      ]
    },
    {
      "cell_type": "code",
      "metadata": {
        "colab": {
          "base_uri": "https://localhost:8080/"
        },
        "id": "jqWF7Ti-LhaA",
        "outputId": "3ff3e409-8e62-427a-955d-10ef96db077c"
      },
      "source": [
        "# Colab 상의 훈련용 데이터 디렉터리 정리\n",
        "!mkdir training_data\n",
        "%cd training_data/\n",
        "!mkdir '0. stone'\n",
        "!mkdir '1. pothole'\n",
        "!mkdir '2. filled'\n",
        "%cd .."
      ],
      "execution_count": null,
      "outputs": [
        {
          "output_type": "stream",
          "name": "stdout",
          "text": [
            "/content/training_data\n",
            "/content\n"
          ]
        }
      ]
    },
    {
      "cell_type": "code",
      "metadata": {
        "id": "eoOYxEI6Bt2s"
      },
      "source": [
        "%%capture\n",
        "'''\n",
        "# data path\n",
        "# 인터넷에서 주워온것임 ! gdown --id 1PGhXUnaJDpcjgoLEhNn9gRvGZGRCzWUt\n",
        "'''\n",
        "\n",
        "# 빅데이터 AI 수업에서 공유된 data.zip \n",
        "#! gdown --id 1X1J2RwBu9KhRpw8GqS-s1ZeI6YF0VZTO --out 'data.zip'\n",
        "\n",
        "# data.zip 학교제공 : 1X1J2RwBu9KhRpw8GqS-s1ZeI6YF0VZTO / 내 드라이브 : 1FB_Ssfk9A06wUFK5TlKN5tjKHaGOPsAA\n",
        "\n",
        "# 빅데이터 AI 수업에서 공유된 실차 데이터.zip\n",
        "#! gdown --id 12PwxkFYqIBiI_7Upxfyxg9Aq6MbmO2Wm --out '실차데이터.zip'\n",
        "\n",
        "# 실차데이터 학교제공 : 1byD-TlXFXVJysi7q3K8y-W_96qbbfF5L / 내 드라이브 : 12PwxkFYqIBiI_7Upxfyxg9Aq6MbmO2Wm\n",
        "\n",
        "# json parsing 에서 나누었던 데이터.zip\n",
        "#! gdown --id 1Dr8z1zXNpTZVqcKd1cYn0d71gi5itA3W --out 'divided_data.zip'\n",
        "\n",
        "# 하이퍼파라미터 설정을 위한 tuner_data.zip 파일\n",
        "#! gdown --id 1Fd9OcOzhzYwhmDS38bUTqdvoOwSOH8jc --out 'tuning_data.zip'\n",
        "\n",
        "# Model 과 각종 기능이 잘 동작하는지 확인하기위한 간단한 파일\n",
        "#! gdown --id 1NBl5yFuPBOtc59ikZJtx8_xPN-EuCcjt\n",
        "\n",
        "# 직접 데이터 추출 및 작업을 진행한 구글드라이브 상 데이터\n",
        "# ! gdown --id <추가예정> --out '<설정하고자하는폴더명>.zip'\n",
        "\n",
        "\n",
        "\n",
        "! gdown --id 1pJMT9F__i0dGlpNnUabY8wwU5jPzS7Nw --out 'hopefully_main_data_with_Kaggle.zip'\n",
        "\n",
        "!unzip 'hopefully_main_data_with_Kaggle.zip' -d 'hopefully_main_data_with_Kaggle'\n",
        "\n",
        "#! gdown --id 18oGJxvLJ3HfQ4VJf40oBch6P9FKS9gr- --out 'hopefully_main_data.zip'\n",
        "\n",
        "#!unzip 'hopefully_main_data.zip' -d 'hopefully_main_data'\n",
        "\n",
        "'''\n",
        "data.zip 파일은 큰 파일이니 아래 절차로 zip 해제할 것\n",
        "! gdown --id 1FB_Ssfk9A06wUFK5TlKN5tjKHaGOPsAA --out 'data.zip'\n",
        "! zip -FFv data.zip --out data_.zip\n",
        "! unzip data_.zip -d data\n",
        "'''\n",
        "\n",
        "#!unzip 'tuning_data.zip' -d 'tuning_data'\n",
        "\n",
        "\n",
        "\n",
        "#!unzip 'first_checking_data.zip' -d first_checking_data\n",
        "\n",
        "'''\n",
        "!unzip '실차데이터.zip' -d '실차데이터'\n",
        "!unzip 'divided_data.zip' -d 'divided_data'\n",
        "\n",
        "! zip -FFv data.zip --out data_.zip\n",
        "! unzip data_.zip -d data\n",
        "'''"
      ],
      "execution_count": null,
      "outputs": []
    },
    {
      "cell_type": "code",
      "metadata": {
        "id": "ebtqatlmOAI4"
      },
      "source": [
        "\n",
        "# training_data 폴더로 zip 해제한 모든 파일을 정리한다.\n",
        "'''\n",
        "!mv /content/실차데이터/'0. no_pothole'/* /content/training_data/'0. stone'\n",
        "!mv /content/실차데이터/'1. pothole'/* /content/training_data/'1. pothole'\n",
        "!mv /content/실차데이터/'2. filled'/* /content/training_data/'2. filled'\n",
        "\n",
        "!mv /content/divided_data/'0. stone/Images'/* /content/training_data/'0. stone'\n",
        "!mv /content/divided_data/'1. pothole/Images'/* /content/training_data/'1. pothole'\n",
        "!mv /content/divided_data/'2. filled/Images'/* /content/training_data/'2. filled'\n",
        "\n",
        "!mv /content/data/data/'0. stone'/* /content/training_data/'0. stone'\n",
        "!mv /content/data/data/'1. pothole'/* /content/training_data/'1. pothole'\n",
        "!mv /content/data/data/'2. filled'/* /content/training_data/'2. filled'\n",
        "\n",
        "!mv /content/tuning_data/'0. stone'/* /content/training_data/'0. stone'\n",
        "!mv /content/tuning_data/'1. pothole'/* /content/training_data/'1. pothole'\n",
        "!mv /content/tuning_data/'2. filled'/* /content/training_data/'2. filled'\n",
        "\n",
        "!mv /content/first_checking_data/first_checking_data/'0. stone'/* /content/training_data/'0. stone'\n",
        "!mv /content/first_checking_data/first_checking_data/'1. pothole'/* /content/training_data/'1. pothole'\n",
        "!mv /content/first_checking_data/first_checking_data/'2. filled'/* /content/training_data/'2. filled'\n",
        "\n",
        "!mv /content/hopefully_main_data/hopefully_main_data/'0. stone'/* /content/training_data/'0. stone'\n",
        "!mv /content/hopefully_main_data/hopefully_main_data/'1. pothole'/* /content/training_data/'1. pothole'\n",
        "!mv /content/hopefully_main_data/hopefully_main_data/'2. filled'/* /content/training_data/'2. filled'\n",
        "'''\n",
        "!mv /content/hopefully_main_data_with_Kaggle/hopefully_main_data_with_Kaggle/'0. stone'/* /content/training_data/'0. stone'\n",
        "!mv /content/hopefully_main_data_with_Kaggle/hopefully_main_data_with_Kaggle/'1. pothole'/* /content/training_data/'1. pothole'\n",
        "!mv /content/hopefully_main_data_with_Kaggle/hopefully_main_data_with_Kaggle/'2. filled'/* /content/training_data/'2. filled'"
      ],
      "execution_count": null,
      "outputs": []
    },
    {
      "cell_type": "code",
      "metadata": {
        "id": "WriIkS3zdm_8",
        "colab": {
          "base_uri": "https://localhost:8080/"
        },
        "outputId": "2870bd42-cfa1-409e-92db-fdc3c9a45871"
      },
      "source": [
        "# 1. 기본 뿌리 디렉터리와 검증데이터 경로를 가져온다\n",
        "base_path = os.path.abspath('/content/training_data')\n",
        "print(base_path)\n",
        "\n",
        "# 2. 데이터 경로를 지정을 해준다.\n",
        "no_pothole_dir = os.path.join(base_path, '0. stone')\n",
        "pothole_dir = os.path.join(base_path, '1. pothole')\n",
        "filled_dir = os.path.join(base_path, '2. filled')\n",
        "\n",
        "# 3. 데이터 셋의 개수를 카운팅한다.\n",
        "num_no_pothole = len(os.listdir(no_pothole_dir))\n",
        "num_pothole_dir = len(os.listdir(pothole_dir))\n",
        "num_filled_dir = len(os.listdir(filled_dir))\n",
        "\n",
        "total_data = num_no_pothole + num_pothole_dir + num_filled_dir\n",
        "\n",
        "print(f'정상도로 : {num_no_pothole} 개 , 팟홀도로 : {num_pothole_dir}, 보수도로 : {num_filled_dir}')\n",
        "\n",
        "print(f'Total Data 개수 : {total_data}')"
      ],
      "execution_count": null,
      "outputs": [
        {
          "output_type": "stream",
          "name": "stdout",
          "text": [
            "/content/training_data\n",
            "정상도로 : 1554 개 , 팟홀도로 : 1832, 보수도로 : 1703\n",
            "Total Data 개수 : 5089\n"
          ]
        }
      ]
    },
    {
      "cell_type": "code",
      "metadata": {
        "id": "k1YuSoQXzOQi"
      },
      "source": [
        "# Train set 과 Validation set 을 나누며, Data Augmentation 작업 또한 추가시킨다.\n",
        "train_image_generator = ImageDataGenerator(rescale=1./255,                                     \n",
        "      rotation_range=7,\n",
        "      #width_shift_range=0.1,\n",
        "      #height_shift_range=0.1,\n",
        "      #shear_range=0.1,\n",
        "      #zoom_range=0.1,\n",
        "      horizontal_flip=True,\n",
        "      fill_mode='nearest',\n",
        "      validation_split=0.15)\n",
        "'''\n",
        "\n",
        "# without augmentation\n",
        "train_image_generator = ImageDataGenerator(rescale=1./255,\n",
        "      validation_split=0.15)\n",
        "'''\n",
        "\n",
        "validation_image_generator = ImageDataGenerator(rescale=1./255,\n",
        "                                                horizontal_flip=True,\n",
        "                                                validation_split=0.15)\n",
        "'''\n",
        "batch_size = 32\n",
        "epochs = 15\n",
        "IMG_HEIGHT = 320\n",
        "IMG_WIDTH = 320\n",
        "'''\n",
        "train_batch_size = 32\n",
        "val_batch_size = 32\n",
        "\n",
        "epochs = 10\n",
        "IMG_HEIGHT = 320\n",
        "IMG_WIDTH = 320"
      ],
      "execution_count": null,
      "outputs": []
    },
    {
      "cell_type": "code",
      "metadata": {
        "colab": {
          "base_uri": "https://localhost:8080/"
        },
        "id": "IV8TcPiazPKX",
        "outputId": "bf880dd6-0b7e-439f-cb96-6b8d4aca013b"
      },
      "source": [
        "train_data_gen = train_image_generator.flow_from_directory(batch_size=train_batch_size,\n",
        "                                                           directory=base_path,\n",
        "                                                           seed = 22,\n",
        "                                                           shuffle=True,\n",
        "                                                           target_size=(IMG_HEIGHT, IMG_WIDTH),\n",
        "                                                           subset='training',\n",
        "                                                           class_mode='categorical')\n",
        "\n",
        "val_data_gen = validation_image_generator.flow_from_directory(batch_size=val_batch_size,\n",
        "                                                           directory=base_path,\n",
        "                                                           seed = 22,\n",
        "                                                           target_size=(IMG_HEIGHT, IMG_WIDTH),\n",
        "                                                           subset='validation',\n",
        "                                                           class_mode='categorical')\n",
        "train_num = train_data_gen.samples # training set 이 몇개인지\n",
        "val_num = val_data_gen.samples   # validation set 이 몇개인지"
      ],
      "execution_count": null,
      "outputs": [
        {
          "output_type": "stream",
          "name": "stdout",
          "text": [
            "Found 4327 images belonging to 3 classes.\n",
            "Found 762 images belonging to 3 classes.\n"
          ]
        }
      ]
    },
    {
      "cell_type": "markdown",
      "metadata": {
        "id": "JUX_bZHYz3DL"
      },
      "source": [
        "# Feature Extractor 가져오기"
      ]
    },
    {
      "cell_type": "code",
      "metadata": {
        "id": "U4TNZaSyz2mD"
      },
      "source": [
        "feature_extractor = keras.models.load_model('/content/drive/MyDrive/Colab Notebooks/빅데이터및AI/Model/model_11.h5')"
      ],
      "execution_count": null,
      "outputs": []
    },
    {
      "cell_type": "code",
      "metadata": {
        "colab": {
          "base_uri": "https://localhost:8080/"
        },
        "id": "3XU4zVrb0ZwW",
        "outputId": "3d7da385-6630-4861-dd2d-2a2bb56024a3"
      },
      "source": [
        "base_model = tf.keras.applications.MobileNetV2(\n",
        "        input_shape=None,\n",
        "        alpha=.35,\n",
        "        include_top=False,\n",
        "        weights='imagenet',\n",
        "        input_tensor=None,\n",
        "        pooling=None\n",
        "      )\n",
        "base_model.trainable = True\n",
        "\n",
        "inputs = keras.Input(shape=(320, 320, 3))\n",
        "x = base_model(inputs, training=True)\n",
        "x = tf.keras.layers.GlobalAveragePooling2D()(x)\n",
        "x = tf.keras.layers.Dense(units=320,activation=None)(x)\n",
        "x = tf.keras.layers.BatchNormalization()(x)\n",
        "#x = keras.layers.Dropout(0.2)(x)\n",
        "x = tf.keras.layers.Activation(activation=\"elu\")(x)\n",
        "x = tf.keras.layers.Dense(units=128,activation=None)(x)\n",
        "x = tf.keras.layers.BatchNormalization()(x)\n",
        "#x = keras.layers.Dropout(0.2)(x)\n",
        "x = tf.keras.layers.Activation(activation=\"elu\")(x)\n",
        "x = tf.keras.layers.Dense(units=96,activation=None)(x)\n",
        "x = tf.keras.layers.BatchNormalization()(x)\n",
        "#x = keras.layers.Dropout(0.2)(x)\n",
        "x = tf.keras.layers.Activation(activation=\"elu\")(x)\n",
        "x = tf.keras.layers.Dense(units=32,activation=None)(x)\n",
        "x = tf.keras.layers.BatchNormalization()(x)\n",
        "#x = keras.layers.Dropout(0.2)(x)\n",
        "x = tf.keras.layers.Activation(activation=\"elu\")(x)\n",
        "outputs = keras.layers.Dense(3, activation='softmax')(x)\n",
        "\n",
        "new_model = keras.Model(inputs=inputs, outputs=outputs)\n",
        "\n",
        "new_model.summary()"
      ],
      "execution_count": null,
      "outputs": [
        {
          "output_type": "stream",
          "name": "stdout",
          "text": [
            "Model: \"model_1\"\n",
            "_________________________________________________________________\n",
            " Layer (type)                Output Shape              Param #   \n",
            "=================================================================\n",
            " input_4 (InputLayer)        [(None, 320, 320, 3)]     0         \n",
            "                                                                 \n",
            " mobilenetv2_0.35_224 (Funct  (None, None, None, 1280)  410208   \n",
            " ional)                                                          \n",
            "                                                                 \n",
            " global_average_pooling2d_1   (None, 1280)             0         \n",
            " (GlobalAveragePooling2D)                                        \n",
            "                                                                 \n",
            " dense_6 (Dense)             (None, 320)               409920    \n",
            "                                                                 \n",
            " batch_normalization_5 (Batc  (None, 320)              1280      \n",
            " hNormalization)                                                 \n",
            "                                                                 \n",
            " activation_5 (Activation)   (None, 320)               0         \n",
            "                                                                 \n",
            " dense_7 (Dense)             (None, 256)               82176     \n",
            "                                                                 \n",
            " batch_normalization_6 (Batc  (None, 256)              1024      \n",
            " hNormalization)                                                 \n",
            "                                                                 \n",
            " activation_6 (Activation)   (None, 256)               0         \n",
            "                                                                 \n",
            " dense_8 (Dense)             (None, 196)               50372     \n",
            "                                                                 \n",
            " batch_normalization_7 (Batc  (None, 196)              784       \n",
            " hNormalization)                                                 \n",
            "                                                                 \n",
            " activation_7 (Activation)   (None, 196)               0         \n",
            "                                                                 \n",
            " dense_9 (Dense)             (None, 128)               25216     \n",
            "                                                                 \n",
            " batch_normalization_8 (Batc  (None, 128)              512       \n",
            " hNormalization)                                                 \n",
            "                                                                 \n",
            " activation_8 (Activation)   (None, 128)               0         \n",
            "                                                                 \n",
            " dense_10 (Dense)            (None, 64)                8256      \n",
            "                                                                 \n",
            " batch_normalization_9 (Batc  (None, 64)               256       \n",
            " hNormalization)                                                 \n",
            "                                                                 \n",
            " activation_9 (Activation)   (None, 64)                0         \n",
            "                                                                 \n",
            " dense_11 (Dense)            (None, 32)                2080      \n",
            "                                                                 \n",
            " batch_normalization_10 (Bat  (None, 32)               128       \n",
            " chNormalization)                                                \n",
            "                                                                 \n",
            " activation_10 (Activation)  (None, 32)                0         \n",
            "                                                                 \n",
            " dense_12 (Dense)            (None, 3)                 99        \n",
            "                                                                 \n",
            "=================================================================\n",
            "Total params: 992,311\n",
            "Trainable params: 976,239\n",
            "Non-trainable params: 16,072\n",
            "_________________________________________________________________\n"
          ]
        }
      ]
    },
    {
      "cell_type": "code",
      "metadata": {
        "id": "DrFw50Ade5Qd"
      },
      "source": [
        "# 3번, 4번\n",
        "# 내부 변수 확인 print(feature_extractor.layers[4].get_weights())\n"
      ],
      "execution_count": null,
      "outputs": []
    },
    {
      "cell_type": "code",
      "metadata": {
        "colab": {
          "base_uri": "https://localhost:8080/"
        },
        "id": "xVVv5h1Y1JfE",
        "outputId": "0112a13a-e178-4846-e25b-b338428b0b44"
      },
      "source": [
        "# first index is about feature extractor\n",
        "new_model.layers[1].set_weights(feature_extractor.layers[1].get_weights())\n",
        "new_model.layers[3].set_weights(feature_extractor.layers[3].get_weights())\n",
        "new_model.layers[4].set_weights(feature_extractor.layers[4].get_weights())\n",
        "# 특징추출기에 해당하는 CNN 을 freezing 시킨다.\n",
        "new_model.layers[1].trainable = False\n",
        "new_model.layers[3].trainable = False\n",
        "new_model.layers[4].trainable = False\n",
        "\n",
        "new_model.summary()"
      ],
      "execution_count": null,
      "outputs": [
        {
          "output_type": "stream",
          "name": "stdout",
          "text": [
            "Model: \"model_1\"\n",
            "_________________________________________________________________\n",
            " Layer (type)                Output Shape              Param #   \n",
            "=================================================================\n",
            " input_4 (InputLayer)        [(None, 320, 320, 3)]     0         \n",
            "                                                                 \n",
            " mobilenetv2_0.35_224 (Funct  (None, None, None, 1280)  410208   \n",
            " ional)                                                          \n",
            "                                                                 \n",
            " global_average_pooling2d_1   (None, 1280)             0         \n",
            " (GlobalAveragePooling2D)                                        \n",
            "                                                                 \n",
            " dense_6 (Dense)             (None, 320)               409920    \n",
            "                                                                 \n",
            " batch_normalization_5 (Batc  (None, 320)              1280      \n",
            " hNormalization)                                                 \n",
            "                                                                 \n",
            " activation_5 (Activation)   (None, 320)               0         \n",
            "                                                                 \n",
            " dense_7 (Dense)             (None, 256)               82176     \n",
            "                                                                 \n",
            " batch_normalization_6 (Batc  (None, 256)              1024      \n",
            " hNormalization)                                                 \n",
            "                                                                 \n",
            " activation_6 (Activation)   (None, 256)               0         \n",
            "                                                                 \n",
            " dense_8 (Dense)             (None, 196)               50372     \n",
            "                                                                 \n",
            " batch_normalization_7 (Batc  (None, 196)              784       \n",
            " hNormalization)                                                 \n",
            "                                                                 \n",
            " activation_7 (Activation)   (None, 196)               0         \n",
            "                                                                 \n",
            " dense_9 (Dense)             (None, 128)               25216     \n",
            "                                                                 \n",
            " batch_normalization_8 (Batc  (None, 128)              512       \n",
            " hNormalization)                                                 \n",
            "                                                                 \n",
            " activation_8 (Activation)   (None, 128)               0         \n",
            "                                                                 \n",
            " dense_10 (Dense)            (None, 64)                8256      \n",
            "                                                                 \n",
            " batch_normalization_9 (Batc  (None, 64)               256       \n",
            " hNormalization)                                                 \n",
            "                                                                 \n",
            " activation_9 (Activation)   (None, 64)                0         \n",
            "                                                                 \n",
            " dense_11 (Dense)            (None, 32)                2080      \n",
            "                                                                 \n",
            " batch_normalization_10 (Bat  (None, 32)               128       \n",
            " chNormalization)                                                \n",
            "                                                                 \n",
            " activation_10 (Activation)  (None, 32)                0         \n",
            "                                                                 \n",
            " dense_12 (Dense)            (None, 3)                 99        \n",
            "                                                                 \n",
            "=================================================================\n",
            "Total params: 992,311\n",
            "Trainable params: 169,551\n",
            "Non-trainable params: 822,760\n",
            "_________________________________________________________________\n"
          ]
        }
      ]
    },
    {
      "cell_type": "code",
      "metadata": {
        "id": "P7dkD5NF07x1"
      },
      "source": [
        "#opt = tf.keras.optimizers.RMSprop(learning_rate=0.001, centered=True)\n",
        "opt = tf.keras.optimizers.Nadam(learning_rate=0.00166, beta_1=0.9, beta_2=0.999, epsilon=1e-07, name=\"Nadam\")\n",
        "new_model.compile(loss=tf.keras.losses.CategoricalCrossentropy(), optimizer=opt, metrics = ['accuracy'])\n",
        "my_callbacks = [\n",
        "    tf.keras.callbacks.ModelCheckpoint(\n",
        "    filepath='/content/drive/MyDrive/Colab Notebooks/빅데이터및AI/Model/model_12_11_12.h5',\n",
        "    save_weights_only=False,\n",
        "    monitor='val_accuracy',\n",
        "    mode='max',\n",
        "    save_best_only=True)\n",
        "]"
      ],
      "execution_count": null,
      "outputs": []
    },
    {
      "cell_type": "code",
      "metadata": {
        "colab": {
          "base_uri": "https://localhost:8080/"
        },
        "id": "B9mg76wR182Y",
        "outputId": "adbcbd12-c033-4477-f5ac-464911859b9e"
      },
      "source": [
        "history = new_model.fit_generator(\n",
        "    train_data_gen,\n",
        "    steps_per_epoch=train_num//train_batch_size,\n",
        "    epochs=15,\n",
        "    validation_data = val_data_gen,\n",
        "    validation_steps = val_num//val_batch_size,\n",
        "    #check call back name\n",
        "    callbacks=[my_callbacks])"
      ],
      "execution_count": null,
      "outputs": [
        {
          "output_type": "stream",
          "name": "stderr",
          "text": [
            "/usr/local/lib/python3.7/dist-packages/ipykernel_launcher.py:8: UserWarning: `Model.fit_generator` is deprecated and will be removed in a future version. Please use `Model.fit`, which supports generators.\n",
            "  \n"
          ]
        },
        {
          "output_type": "stream",
          "name": "stdout",
          "text": [
            "Epoch 1/15\n",
            "135/135 [==============================] - ETA: 0s - loss: 0.1563 - accuracy: 0.9502"
          ]
        },
        {
          "output_type": "stream",
          "name": "stderr",
          "text": [
            "/usr/local/lib/python3.7/dist-packages/keras/engine/functional.py:1410: CustomMaskWarning: Custom mask layers require a config and must override get_config. When loading, the custom mask layer must be passed to the custom_objects argument.\n",
            "  layer_config = serialize_layer_fn(layer)\n"
          ]
        },
        {
          "output_type": "stream",
          "name": "stdout",
          "text": [
            "\b\b\b\b\b\b\b\b\b\b\b\b\b\b\b\b\b\b\b\b\b\b\b\b\b\b\b\b\b\b\b\b\b\b\b\b\b\b\b\b\b\b\b\b\b\b\b\b\b\b\b\b\b\b\b\b\b\b\b\b\b\b\b\b\b\b\b\b\b\b\b\b\b\b\b\b\b\b\b\b\b\b\b\b\r135/135 [==============================] - 456s 3s/step - loss: 0.1563 - accuracy: 0.9502 - val_loss: 1.6824 - val_accuracy: 0.6332\n",
            "Epoch 2/15\n",
            "135/135 [==============================] - 430s 3s/step - loss: 0.1302 - accuracy: 0.9560 - val_loss: 1.4894 - val_accuracy: 0.6658\n",
            "Epoch 3/15\n",
            "135/135 [==============================] - 410s 3s/step - loss: 0.1052 - accuracy: 0.9641 - val_loss: 1.5658 - val_accuracy: 0.6467\n",
            "Epoch 4/15\n",
            "135/135 [==============================] - 408s 3s/step - loss: 0.1026 - accuracy: 0.9639 - val_loss: 1.4740 - val_accuracy: 0.6603\n",
            "Epoch 5/15\n",
            "110/135 [=======================>......] - ETA: 1:09 - loss: 0.1134 - accuracy: 0.9605"
          ]
        }
      ]
    },
    {
      "cell_type": "code",
      "metadata": {
        "colab": {
          "base_uri": "https://localhost:8080/"
        },
        "id": "f751H9KzELKb",
        "outputId": "02a0748d-5744-4fb5-8e03-d1d3c13b1626"
      },
      "source": [
        "new_model.history.history"
      ],
      "execution_count": null,
      "outputs": [
        {
          "output_type": "execute_result",
          "data": {
            "text/plain": [
              "{'accuracy': [0.9110127687454224,\n",
              "  0.9284660816192627,\n",
              "  0.9454277157783508,\n",
              "  0.9557521939277649,\n",
              "  0.9601770043373108,\n",
              "  0.9584562182426453,\n",
              "  0.9461652040481567,\n",
              "  0.9601770043373108,\n",
              "  0.9653392434120178,\n",
              "  0.9646017551422119,\n",
              "  0.9643559455871582,\n",
              "  0.9668141603469849,\n",
              "  0.9690265655517578,\n",
              "  0.9650934338569641,\n",
              "  0.9591937065124512,\n",
              "  0.9663225412368774,\n",
              "  0.966076672077179,\n",
              "  0.9756637215614319,\n",
              "  0.9761553406715393,\n",
              "  0.9736971259117126,\n",
              "  0.9830383658409119,\n",
              "  0.9594395160675049,\n",
              "  0.9621435403823853,\n",
              "  0.9692723751068115,\n",
              "  0.9692723751068115,\n",
              "  0.9746804237365723,\n",
              "  0.9727138876914978,\n",
              "  0.9594395160675049,\n",
              "  0.9788593649864197,\n",
              "  0.9788593649864197,\n",
              "  0.9788593649864197,\n",
              "  0.9695181846618652,\n",
              "  0.9631268382072449,\n",
              "  0.9594395160675049,\n",
              "  0.9744346141815186,\n",
              "  0.9783677458763123,\n",
              "  0.9842674732208252,\n",
              "  0.9845132827758789,\n",
              "  0.9864798188209534,\n",
              "  0.9218289256095886,\n",
              "  0.9535398483276367,\n",
              "  0.9658308625221252,\n",
              "  0.9741888046264648,\n",
              "  0.9736971259117126,\n",
              "  0.9761553406715393,\n",
              "  0.9719763994216919,\n",
              "  0.9768928289413452,\n",
              "  0.9741888046264648,\n",
              "  0.9675516486167908,\n",
              "  0.9813175797462463,\n",
              "  0.9732055068016052,\n",
              "  0.9655850529670715,\n",
              "  0.9788593649864197,\n",
              "  0.982300877571106,\n",
              "  0.9820550680160522,\n",
              "  0.9813175797462463,\n",
              "  0.9734513163566589,\n",
              "  0.9795968532562256,\n",
              "  0.9845132827758789,\n",
              "  0.9845132827758789],\n",
              " 'loss': [0.23721902072429657,\n",
              "  0.19079603254795074,\n",
              "  0.15461885929107666,\n",
              "  0.13068734109401703,\n",
              "  0.11683886498212814,\n",
              "  0.11481979489326477,\n",
              "  0.1494971364736557,\n",
              "  0.10456211864948273,\n",
              "  0.10125332325696945,\n",
              "  0.10144006460905075,\n",
              "  0.0991973727941513,\n",
              "  0.09400338679552078,\n",
              "  0.08575094491243362,\n",
              "  0.10265085846185684,\n",
              "  0.11431118100881577,\n",
              "  0.10560669004917145,\n",
              "  0.09475288540124893,\n",
              "  0.0727001428604126,\n",
              "  0.07364407926797867,\n",
              "  0.06844788044691086,\n",
              "  0.05152815207839012,\n",
              "  0.1062236800789833,\n",
              "  0.09852918237447739,\n",
              "  0.0861688107252121,\n",
              "  0.08185649663209915,\n",
              "  0.07247188687324524,\n",
              "  0.08203987777233124,\n",
              "  0.11007358133792877,\n",
              "  0.05856946110725403,\n",
              "  0.05935055390000343,\n",
              "  0.06168502941727638,\n",
              "  0.08369371294975281,\n",
              "  0.09768187254667282,\n",
              "  0.11075205355882645,\n",
              "  0.07642847299575806,\n",
              "  0.0643056333065033,\n",
              "  0.04402904212474823,\n",
              "  0.04761720076203346,\n",
              "  0.041445452719926834,\n",
              "  0.23979024589061737,\n",
              "  0.12460948526859283,\n",
              "  0.09169072657823563,\n",
              "  0.07448827475309372,\n",
              "  0.08187799900770187,\n",
              "  0.07402870059013367,\n",
              "  0.08044856786727905,\n",
              "  0.06606745719909668,\n",
              "  0.07414965331554413,\n",
              "  0.09238449484109879,\n",
              "  0.05909135565161705,\n",
              "  0.07732327282428741,\n",
              "  0.09085503220558167,\n",
              "  0.05835888162255287,\n",
              "  0.04904728755354881,\n",
              "  0.05334094911813736,\n",
              "  0.05791157856583595,\n",
              "  0.07776279747486115,\n",
              "  0.05754292383790016,\n",
              "  0.04809817671775818,\n",
              "  0.04105597734451294],\n",
              " 'val_accuracy': [0.7017045617103577,\n",
              "  0.7698863744735718,\n",
              "  0.7514204382896423,\n",
              "  0.7670454382896423,\n",
              "  0.7400568127632141,\n",
              "  0.7528409361839294,\n",
              "  0.703125,\n",
              "  0.6931818127632141,\n",
              "  0.7215909361839294,\n",
              "  0.7556818127632141,\n",
              "  0.7372159361839294,\n",
              "  0.71875,\n",
              "  0.671875,\n",
              "  0.6903409361839294,\n",
              "  0.7414772510528564,\n",
              "  0.7017045617103577,\n",
              "  0.7215909361839294,\n",
              "  0.734375,\n",
              "  0.7457386255264282,\n",
              "  0.7613636255264282,\n",
              "  0.7428977489471436,\n",
              "  0.7386363744735718,\n",
              "  0.7173295617103577,\n",
              "  0.6548295617103577,\n",
              "  0.7258522510528564,\n",
              "  0.7286931872367859,\n",
              "  0.7201704382896423,\n",
              "  0.7244318127632141,\n",
              "  0.7286931872367859,\n",
              "  0.7315340638160706,\n",
              "  0.7315340638160706,\n",
              "  0.6377840638160706,\n",
              "  0.7073863744735718,\n",
              "  0.7102272510528564,\n",
              "  0.7002840638160706,\n",
              "  0.7130681872367859,\n",
              "  0.6889204382896423,\n",
              "  0.7215909361839294,\n",
              "  0.7144886255264282,\n",
              "  0.7286931872367859,\n",
              "  0.6747159361839294,\n",
              "  0.7045454382896423,\n",
              "  0.7286931872367859,\n",
              "  0.6832386255264282,\n",
              "  0.7002840638160706,\n",
              "  0.65625,\n",
              "  0.6747159361839294,\n",
              "  0.6775568127632141,\n",
              "  0.7329545617103577,\n",
              "  0.6889204382896423,\n",
              "  0.703125,\n",
              "  0.6846590638160706,\n",
              "  0.6690340638160706,\n",
              "  0.7741477489471436,\n",
              "  0.7059659361839294,\n",
              "  0.7230113744735718,\n",
              "  0.7045454382896423,\n",
              "  0.7443181872367859,\n",
              "  0.7286931872367859,\n",
              "  0.7386363744735718],\n",
              " 'val_loss': [0.9506433010101318,\n",
              "  1.0591942071914673,\n",
              "  1.0229493379592896,\n",
              "  0.9487146735191345,\n",
              "  1.1607956886291504,\n",
              "  1.228811264038086,\n",
              "  1.4763903617858887,\n",
              "  1.3758442401885986,\n",
              "  1.1687217950820923,\n",
              "  1.167725920677185,\n",
              "  1.2644091844558716,\n",
              "  1.5733959674835205,\n",
              "  1.4916050434112549,\n",
              "  1.4994868040084839,\n",
              "  1.2213410139083862,\n",
              "  1.5176098346710205,\n",
              "  1.3996020555496216,\n",
              "  1.255274772644043,\n",
              "  1.1661332845687866,\n",
              "  1.060707926750183,\n",
              "  1.0540757179260254,\n",
              "  1.1069591045379639,\n",
              "  1.4996148347854614,\n",
              "  2.0635006427764893,\n",
              "  1.419569969177246,\n",
              "  1.3602371215820312,\n",
              "  1.574988842010498,\n",
              "  1.268202304840088,\n",
              "  1.3503222465515137,\n",
              "  1.2108529806137085,\n",
              "  1.5499775409698486,\n",
              "  1.9607104063034058,\n",
              "  1.403349757194519,\n",
              "  1.474623203277588,\n",
              "  1.4539804458618164,\n",
              "  1.8102318048477173,\n",
              "  1.8152207136154175,\n",
              "  1.646317958831787,\n",
              "  1.961491346359253,\n",
              "  1.0133792161941528,\n",
              "  1.4921436309814453,\n",
              "  1.2150849103927612,\n",
              "  1.464909315109253,\n",
              "  1.3626025915145874,\n",
              "  1.4733811616897583,\n",
              "  1.6427634954452515,\n",
              "  1.4410834312438965,\n",
              "  1.7562724351882935,\n",
              "  1.1588038206100464,\n",
              "  1.6724740266799927,\n",
              "  1.5854610204696655,\n",
              "  1.9951553344726562,\n",
              "  1.6715457439422607,\n",
              "  1.103144884109497,\n",
              "  1.85191810131073,\n",
              "  1.943942904472351,\n",
              "  1.3698214292526245,\n",
              "  1.3886011838912964,\n",
              "  1.4362425804138184,\n",
              "  1.4042015075683594]}"
            ]
          },
          "metadata": {},
          "execution_count": 24
        }
      ]
    },
    {
      "cell_type": "code",
      "metadata": {
        "id": "Ezou7uSCcI5d"
      },
      "source": [
        ""
      ],
      "execution_count": null,
      "outputs": []
    },
    {
      "cell_type": "code",
      "metadata": {
        "id": "BhJECfnGjAQn"
      },
      "source": [
        ""
      ],
      "execution_count": null,
      "outputs": []
    },
    {
      "cell_type": "code",
      "metadata": {
        "id": "KnZvxuYbp3uJ"
      },
      "source": [
        ""
      ],
      "execution_count": null,
      "outputs": []
    },
    {
      "cell_type": "code",
      "metadata": {
        "id": "fZHiZazYwvLg"
      },
      "source": [
        ""
      ],
      "execution_count": null,
      "outputs": []
    },
    {
      "cell_type": "code",
      "metadata": {
        "id": "VBtXQc5y3zQ7"
      },
      "source": [
        ""
      ],
      "execution_count": null,
      "outputs": []
    },
    {
      "cell_type": "code",
      "metadata": {
        "id": "5QrrvN1m-qwP"
      },
      "source": [
        ""
      ],
      "execution_count": null,
      "outputs": []
    },
    {
      "cell_type": "code",
      "metadata": {
        "id": "0xDfc0phFiIM"
      },
      "source": [
        ""
      ],
      "execution_count": null,
      "outputs": []
    },
    {
      "cell_type": "code",
      "metadata": {
        "id": "LfayuJ2r187a"
      },
      "source": [
        "# decision boundary\n",
        "# https://www.machinecurve.com/index.php/2019/10/11/how-to-visualize-the-decision-boundary-for-your-keras-model/"
      ],
      "execution_count": null,
      "outputs": []
    },
    {
      "cell_type": "code",
      "metadata": {
        "colab": {
          "base_uri": "https://localhost:8080/"
        },
        "id": "VQnT01V7DNpP",
        "outputId": "ff18189f-f657-485d-8758-42c54888d2e7"
      },
      "source": [
        "base_model2 = tf.keras.applications.MobileNetV2(\n",
        "        input_shape=None,\n",
        "        alpha=.35,\n",
        "        include_top=False,\n",
        "        weights='imagenet',\n",
        "        input_tensor=None,\n",
        "        pooling=None\n",
        "      )\n",
        "    # 해당 층의 매개변수는 그대로 사용하기 위해서 freezing 을 한다.\n",
        "base_model2.trainable = True\n",
        "\n",
        "inputs = keras.Input(shape=(320, 320, 3))\n",
        "x = base_model2(inputs, training=True)\n",
        "x = tf.keras.layers.GlobalAveragePooling2D()(x)\n",
        "x = tf.keras.layers.Dense(units=1024,activation=None)(x)\n",
        "x = tf.keras.layers.BatchNormalization()(x)\n",
        "#x = keras.layers.Dropout(0.2)(x)\n",
        "x = tf.keras.layers.Activation(activation=\"elu\")(x)\n",
        "x = tf.keras.layers.Dense(units=486,activation=None)(x)\n",
        "x = tf.keras.layers.BatchNormalization()(x)\n",
        "#x = keras.layers.Dropout(0.2)(x)\n",
        "x = tf.keras.layers.Activation(activation=\"elu\")(x)\n",
        "x = tf.keras.layers.Dense(units=128,activation=None)(x)\n",
        "x = tf.keras.layers.BatchNormalization()(x)\n",
        "#x = keras.layers.Dropout(0.2)(x)\n",
        "x = tf.keras.layers.Activation(activation=\"elu\")(x)\n",
        "x = tf.keras.layers.Dense(units=32,activation=None)(x)\n",
        "x = tf.keras.layers.BatchNormalization()(x)\n",
        "#x = keras.layers.Dropout(0.2)(x)\n",
        "x = tf.keras.layers.Activation(activation=\"elu\")(x)\n",
        "outputs = keras.layers.Dense(3, activation='softmax')(x)\n",
        "\n",
        "new_model2 = keras.Model(inputs=inputs, outputs=outputs)\n",
        "\n",
        "#new_model2.summary()\n",
        "\n",
        "new_model2.layers[1].set_weights(feature_extractor.layers[1].get_weights())\n",
        "\n",
        "new_model2.layers[1].trainable = False\n",
        "new_model2.summary()"
      ],
      "execution_count": null,
      "outputs": [
        {
          "output_type": "stream",
          "name": "stdout",
          "text": [
            "WARNING:tensorflow:`input_shape` is undefined or non-square, or `rows` is not in [96, 128, 160, 192, 224]. Weights for input shape (224, 224) will be loaded as the default.\n",
            "Model: \"model_1\"\n",
            "_________________________________________________________________\n",
            " Layer (type)                Output Shape              Param #   \n",
            "=================================================================\n",
            " input_4 (InputLayer)        [(None, 320, 320, 3)]     0         \n",
            "                                                                 \n",
            " mobilenetv2_0.35_224 (Funct  (None, None, None, 1280)  410208   \n",
            " ional)                                                          \n",
            "                                                                 \n",
            " global_average_pooling2d_1   (None, 1280)             0         \n",
            " (GlobalAveragePooling2D)                                        \n",
            "                                                                 \n",
            " dense_5 (Dense)             (None, 1024)              1311744   \n",
            "                                                                 \n",
            " batch_normalization_4 (Batc  (None, 1024)             4096      \n",
            " hNormalization)                                                 \n",
            "                                                                 \n",
            " activation_4 (Activation)   (None, 1024)              0         \n",
            "                                                                 \n",
            " dense_6 (Dense)             (None, 486)               498150    \n",
            "                                                                 \n",
            " batch_normalization_5 (Batc  (None, 486)              1944      \n",
            " hNormalization)                                                 \n",
            "                                                                 \n",
            " activation_5 (Activation)   (None, 486)               0         \n",
            "                                                                 \n",
            " dense_7 (Dense)             (None, 128)               62336     \n",
            "                                                                 \n",
            " batch_normalization_6 (Batc  (None, 128)              512       \n",
            " hNormalization)                                                 \n",
            "                                                                 \n",
            " activation_6 (Activation)   (None, 128)               0         \n",
            "                                                                 \n",
            " dense_8 (Dense)             (None, 32)                4128      \n",
            "                                                                 \n",
            " batch_normalization_7 (Batc  (None, 32)               128       \n",
            " hNormalization)                                                 \n",
            "                                                                 \n",
            " activation_7 (Activation)   (None, 32)                0         \n",
            "                                                                 \n",
            " dense_9 (Dense)             (None, 3)                 99        \n",
            "                                                                 \n",
            "=================================================================\n",
            "Total params: 2,293,345\n",
            "Trainable params: 1,879,797\n",
            "Non-trainable params: 413,548\n",
            "_________________________________________________________________\n"
          ]
        }
      ]
    },
    {
      "cell_type": "code",
      "metadata": {
        "id": "3dP2-AfaDqzp"
      },
      "source": [
        "opt = tf.keras.optimizers.Nadam(learning_rate=0.00166, beta_1=0.9, beta_2=0.999, epsilon=1e-07, name=\"Nadam\")\n",
        "new_model2.compile(loss=tf.keras.losses.CategoricalCrossentropy(), optimizer=opt, metrics = ['accuracy'])\n",
        "my_callbacks2 = [\n",
        "    tf.keras.callbacks.ModelCheckpoint(\n",
        "    filepath='/content/drive/MyDrive/Colab Notebooks/빅데이터및AI/Model/model_12_using_freezing.h5',\n",
        "    save_weights_only=False,\n",
        "    monitor='val_accuracy',\n",
        "    mode='max',\n",
        "    save_best_only=True)\n",
        "]"
      ],
      "execution_count": null,
      "outputs": []
    },
    {
      "cell_type": "code",
      "metadata": {
        "colab": {
          "base_uri": "https://localhost:8080/"
        },
        "id": "SU3Cq251Dq4n",
        "outputId": "7c0fdf1f-92d8-45c9-a895-adb7e8be0646"
      },
      "source": [
        "history2 = new_model2.fit_generator(\n",
        "    train_data_gen,\n",
        "    steps_per_epoch=train_num//train_batch_size,\n",
        "    epochs=10,\n",
        "    validation_data = val_data_gen,\n",
        "    validation_steps = val_num//val_batch_size,\n",
        "    #check call back name\n",
        "    callbacks=[my_callbacks2])"
      ],
      "execution_count": null,
      "outputs": [
        {
          "output_type": "stream",
          "name": "stderr",
          "text": [
            "/usr/local/lib/python3.7/dist-packages/ipykernel_launcher.py:8: UserWarning: `Model.fit_generator` is deprecated and will be removed in a future version. Please use `Model.fit`, which supports generators.\n",
            "  \n"
          ]
        },
        {
          "output_type": "stream",
          "name": "stdout",
          "text": [
            "Epoch 1/10\n",
            "136/136 [==============================] - ETA: 0s - loss: 0.1303 - accuracy: 0.9543"
          ]
        },
        {
          "output_type": "stream",
          "name": "stderr",
          "text": [
            "/usr/local/lib/python3.7/dist-packages/keras/engine/functional.py:1410: CustomMaskWarning: Custom mask layers require a config and must override get_config. When loading, the custom mask layer must be passed to the custom_objects argument.\n",
            "  layer_config = serialize_layer_fn(layer)\n"
          ]
        },
        {
          "output_type": "stream",
          "name": "stdout",
          "text": [
            "\b\b\b\b\b\b\b\b\b\b\b\b\b\b\b\b\b\b\b\b\b\b\b\b\b\b\b\b\b\b\b\b\b\b\b\b\b\b\b\b\b\b\b\b\b\b\b\b\b\b\b\b\b\b\b\b\b\b\b\b\b\b\b\b\b\b\b\b\b\b\b\b\b\b\b\b\b\b\b\b\b\b\b\b\r136/136 [==============================] - 337s 2s/step - loss: 0.1303 - accuracy: 0.9543 - val_loss: 1.2351 - val_accuracy: 0.8069\n",
            "Epoch 2/10\n",
            "136/136 [==============================] - 329s 2s/step - loss: 0.1114 - accuracy: 0.9604 - val_loss: 1.3497 - val_accuracy: 0.7764\n",
            "Epoch 3/10\n",
            "136/136 [==============================] - 330s 2s/step - loss: 0.0891 - accuracy: 0.9705 - val_loss: 1.8045 - val_accuracy: 0.7347\n",
            "Epoch 4/10\n",
            "136/136 [==============================] - 330s 2s/step - loss: 0.0883 - accuracy: 0.9693 - val_loss: 1.3624 - val_accuracy: 0.7847\n",
            "Epoch 5/10\n",
            "136/136 [==============================] - 332s 2s/step - loss: 0.0968 - accuracy: 0.9656 - val_loss: 1.5401 - val_accuracy: 0.7583\n",
            "Epoch 6/10\n",
            "136/136 [==============================] - 331s 2s/step - loss: 0.0799 - accuracy: 0.9717 - val_loss: 2.0351 - val_accuracy: 0.7542\n",
            "Epoch 7/10\n",
            "136/136 [==============================] - 331s 2s/step - loss: 0.0886 - accuracy: 0.9700 - val_loss: 1.1995 - val_accuracy: 0.7764\n",
            "Epoch 8/10\n",
            "136/136 [==============================] - 331s 2s/step - loss: 0.0863 - accuracy: 0.9735 - val_loss: 1.7249 - val_accuracy: 0.7486\n",
            "Epoch 9/10\n",
            " 25/136 [====>.........................] - ETA: 3:52 - loss: 0.0763 - accuracy: 0.9747"
          ]
        }
      ]
    },
    {
      "cell_type": "code",
      "metadata": {
        "id": "PX_B5yROug_y"
      },
      "source": [
        ""
      ],
      "execution_count": null,
      "outputs": []
    },
    {
      "cell_type": "code",
      "metadata": {
        "colab": {
          "base_uri": "https://localhost:8080/"
        },
        "id": "XnRzp3YJuhF8",
        "outputId": "9737ebd6-f6b2-4e99-fc48-869ba7750cc8"
      },
      "source": [
        "base_model3 = tf.keras.applications.MobileNetV2(\n",
        "        input_shape=None,\n",
        "        alpha=.35,\n",
        "        include_top=False,\n",
        "        weights='imagenet',\n",
        "        input_tensor=None,\n",
        "        pooling=None\n",
        "      )\n",
        "    # 해당 층의 매개변수는 그대로 사용하기 위해서 freezing 을 한다.\n",
        "base_model3.trainable = True\n",
        "\n",
        "inputs = keras.Input(shape=(320, 320, 3))\n",
        "x = base_model3(inputs, training=True)\n",
        "x = tf.keras.layers.GlobalAveragePooling2D()(x)\n",
        "x = tf.keras.layers.Dense(units=1024,activation=None)(x)\n",
        "x = tf.keras.layers.GaussianDropout(0.4)(x)\n",
        "x = tf.keras.layers.Activation(activation=\"relu\")(x)\n",
        "x = tf.keras.layers.Dense(units=512,activation=None)(x)\n",
        "x = tf.keras.layers.BatchNormalization()(x)\n",
        "x = tf.keras.layers.GaussianDropout(0.4)(x)\n",
        "x = tf.keras.layers.Activation(activation=\"relu\")(x)\n",
        "x = tf.keras.layers.Dense(units=128,activation=None)(x)\n",
        "x = tf.keras.layers.GaussianDropout(0.4)(x)\n",
        "x = tf.keras.layers.Activation(activation=\"relu\")(x)\n",
        "x = tf.keras.layers.Dense(units=64,activation=None)(x)\n",
        "x = tf.keras.layers.BatchNormalization()(x)\n",
        "x = tf.keras.layers.GaussianDropout(0.4)(x)\n",
        "x = tf.keras.layers.Activation(activation=\"elu\")(x)\n",
        "outputs = keras.layers.Dense(3, activation='softmax')(x)\n",
        "\n",
        "new_model3 = keras.Model(inputs=inputs, outputs=outputs)\n",
        "\n",
        "#new_model2.summary()\n",
        "\n",
        "new_model3.layers[1].set_weights(feature_extractor.layers[1].get_weights())\n",
        "\n",
        "new_model3.layers[1].trainable = False\n",
        "new_model3.summary()"
      ],
      "execution_count": null,
      "outputs": [
        {
          "output_type": "stream",
          "name": "stdout",
          "text": [
            "WARNING:tensorflow:`input_shape` is undefined or non-square, or `rows` is not in [96, 128, 160, 192, 224]. Weights for input shape (224, 224) will be loaded as the default.\n",
            "Model: \"model_1\"\n",
            "_________________________________________________________________\n",
            " Layer (type)                Output Shape              Param #   \n",
            "=================================================================\n",
            " input_4 (InputLayer)        [(None, 320, 320, 3)]     0         \n",
            "                                                                 \n",
            " mobilenetv2_0.35_224 (Funct  (None, None, None, 1280)  410208   \n",
            " ional)                                                          \n",
            "                                                                 \n",
            " global_average_pooling2d_1   (None, 1280)             0         \n",
            " (GlobalAveragePooling2D)                                        \n",
            "                                                                 \n",
            " dense_5 (Dense)             (None, 1024)              1311744   \n",
            "                                                                 \n",
            " gaussian_dropout (GaussianD  (None, 1024)             0         \n",
            " ropout)                                                         \n",
            "                                                                 \n",
            " activation_4 (Activation)   (None, 1024)              0         \n",
            "                                                                 \n",
            " dense_6 (Dense)             (None, 512)               524800    \n",
            "                                                                 \n",
            " batch_normalization_4 (Batc  (None, 512)              2048      \n",
            " hNormalization)                                                 \n",
            "                                                                 \n",
            " gaussian_dropout_1 (Gaussia  (None, 512)              0         \n",
            " nDropout)                                                       \n",
            "                                                                 \n",
            " activation_5 (Activation)   (None, 512)               0         \n",
            "                                                                 \n",
            " dense_7 (Dense)             (None, 128)               65664     \n",
            "                                                                 \n",
            " gaussian_dropout_2 (Gaussia  (None, 128)              0         \n",
            " nDropout)                                                       \n",
            "                                                                 \n",
            " activation_6 (Activation)   (None, 128)               0         \n",
            "                                                                 \n",
            " dense_8 (Dense)             (None, 64)                8256      \n",
            "                                                                 \n",
            " batch_normalization_5 (Batc  (None, 64)               256       \n",
            " hNormalization)                                                 \n",
            "                                                                 \n",
            " gaussian_dropout_3 (Gaussia  (None, 64)               0         \n",
            " nDropout)                                                       \n",
            "                                                                 \n",
            " activation_7 (Activation)   (None, 64)                0         \n",
            "                                                                 \n",
            " dense_9 (Dense)             (None, 3)                 195       \n",
            "                                                                 \n",
            "=================================================================\n",
            "Total params: 2,323,171\n",
            "Trainable params: 1,911,811\n",
            "Non-trainable params: 411,360\n",
            "_________________________________________________________________\n"
          ]
        }
      ]
    },
    {
      "cell_type": "code",
      "metadata": {
        "id": "InD5JWmhuiO-"
      },
      "source": [
        "opt = tf.keras.optimizers.Nadam(learning_rate=0.00166, beta_1=0.9, beta_2=0.999, epsilon=1e-07, name=\"Nadam\")\n",
        "new_model3.compile(loss=tf.keras.losses.CategoricalCrossentropy(), optimizer=opt, metrics = ['accuracy'])\n",
        "my_callbacks3 = [\n",
        "    tf.keras.callbacks.ModelCheckpoint(\n",
        "    filepath='/content/drive/MyDrive/Colab Notebooks/빅데이터및AI/Model/model_13.h5',\n",
        "    save_weights_only=False,\n",
        "    monitor='val_accuracy',\n",
        "    mode='max',\n",
        "    save_best_only=True)\n",
        "]"
      ],
      "execution_count": null,
      "outputs": []
    },
    {
      "cell_type": "code",
      "metadata": {
        "colab": {
          "base_uri": "https://localhost:8080/"
        },
        "id": "QWk3blW2uzxo",
        "outputId": "c0d96b21-d704-4d04-f206-7824f363148d"
      },
      "source": [
        "history3 = new_model3.fit_generator(\n",
        "    train_data_gen,\n",
        "    steps_per_epoch=train_num//train_batch_size,\n",
        "    epochs=10,\n",
        "    validation_data = val_data_gen,\n",
        "    validation_steps = val_num//val_batch_size,\n",
        "    #check call back name\n",
        "    callbacks=[my_callbacks3])"
      ],
      "execution_count": null,
      "outputs": [
        {
          "output_type": "stream",
          "name": "stderr",
          "text": [
            "/usr/local/lib/python3.7/dist-packages/ipykernel_launcher.py:8: UserWarning: `Model.fit_generator` is deprecated and will be removed in a future version. Please use `Model.fit`, which supports generators.\n",
            "  \n"
          ]
        },
        {
          "output_type": "stream",
          "name": "stdout",
          "text": [
            "Epoch 1/10\n",
            "128/128 [==============================] - ETA: 0s - loss: 0.1723 - accuracy: 0.9454"
          ]
        },
        {
          "output_type": "stream",
          "name": "stderr",
          "text": [
            "/usr/local/lib/python3.7/dist-packages/keras/engine/functional.py:1410: CustomMaskWarning: Custom mask layers require a config and must override get_config. When loading, the custom mask layer must be passed to the custom_objects argument.\n",
            "  layer_config = serialize_layer_fn(layer)\n"
          ]
        },
        {
          "output_type": "stream",
          "name": "stdout",
          "text": [
            "\b\b\b\b\b\b\b\b\b\b\b\b\b\b\b\b\b\b\b\b\b\b\b\b\b\b\b\b\b\b\b\b\b\b\b\b\b\b\b\b\b\b\b\b\b\b\b\b\b\b\b\b\b\b\b\b\b\b\b\b\b\b\b\b\b\b\b\b\b\b\b\b\b\b\b\b\b\b\b\b\b\b\b\b\r128/128 [==============================] - 388s 3s/step - loss: 0.1723 - accuracy: 0.9454 - val_loss: 2.2066 - val_accuracy: 0.7472\n",
            "Epoch 2/10\n",
            "128/128 [==============================] - 360s 3s/step - loss: 0.1108 - accuracy: 0.9663 - val_loss: 1.5843 - val_accuracy: 0.7557\n",
            "Epoch 3/10\n",
            "128/128 [==============================] - 357s 3s/step - loss: 0.1071 - accuracy: 0.9680 - val_loss: 1.8381 - val_accuracy: 0.7330\n",
            "Epoch 4/10\n",
            "128/128 [==============================] - 356s 3s/step - loss: 0.1004 - accuracy: 0.9668 - val_loss: 1.2898 - val_accuracy: 0.7756\n",
            "Epoch 5/10\n",
            "128/128 [==============================] - 356s 3s/step - loss: 0.1058 - accuracy: 0.9663 - val_loss: 1.6187 - val_accuracy: 0.7500\n",
            "Epoch 6/10\n",
            "128/128 [==============================] - 356s 3s/step - loss: 0.0967 - accuracy: 0.9671 - val_loss: 1.4923 - val_accuracy: 0.7543\n",
            "Epoch 7/10\n",
            "128/128 [==============================] - 349s 3s/step - loss: 0.0920 - accuracy: 0.9720 - val_loss: 1.5405 - val_accuracy: 0.7571\n",
            "Epoch 8/10\n",
            "128/128 [==============================] - 351s 3s/step - loss: 0.0869 - accuracy: 0.9722 - val_loss: 1.5385 - val_accuracy: 0.7486\n",
            "Epoch 9/10\n",
            "128/128 [==============================] - 353s 3s/step - loss: 0.0997 - accuracy: 0.9678 - val_loss: 1.6364 - val_accuracy: 0.7330\n",
            "Epoch 10/10\n",
            "128/128 [==============================] - 352s 3s/step - loss: 0.0873 - accuracy: 0.9703 - val_loss: 1.8429 - val_accuracy: 0.7386\n"
          ]
        }
      ]
    },
    {
      "cell_type": "markdown",
      "metadata": {
        "id": "gGd5F2y00GWA"
      },
      "source": [
        "# Hyperparam Tuning : 0.35 모델 하이퍼 파라미터 4개 찾기"
      ]
    },
    {
      "cell_type": "code",
      "metadata": {
        "id": "DMaJvKiZzvZ5"
      },
      "source": [
        "# Create base model\n",
        "# input_tensor 는 내가 쓰고 싶은 입력크기\n",
        "# input_shape 는 모델이 가지는 입력크기를 말하는듯\n",
        "# [1] MobileNetV2 모델 \n",
        "''''''\n",
        "def build_model(hp):\n",
        "    base_model = tf.keras.applications.MobileNetV2(\n",
        "        input_shape=None,\n",
        "        alpha=0.35,\n",
        "        include_top=False,\n",
        "        weights=\"imagenet\",\n",
        "        input_tensor=None,\n",
        "        pooling=None\n",
        "      )\n",
        "    base_model.trainable = True\n",
        "\n",
        "    act_func = hp.Choice(\"act_func\", [\"relu\", \"selu\", \"elu\", \"softplus\"])\n",
        "\n",
        "    inputs = keras.Input(shape=(320, 320, 3))\n",
        "    x = base_model(inputs, training=True)\n",
        "    x = tf.keras.layers.GlobalAveragePooling2D()(x)\n",
        "    x = tf.keras.layers.Dense(units=320,activation=None)(x)\n",
        "    x = tf.keras.layers.BatchNormalization()(x)\n",
        "    x = tf.keras.layers.Activation(activation=act_func)(x)\n",
        "    x = tf.keras.layers.Dense(units=128,activation=None)(x)\n",
        "    x = tf.keras.layers.BatchNormalization()(x)\n",
        "    x = tf.keras.layers.Activation(activation=act_func)(x)\n",
        "    x = tf.keras.layers.Dense(units=96,activation=None)(x)\n",
        "    x = tf.keras.layers.BatchNormalization()(x)\n",
        "    x = tf.keras.layers.Activation(activation=act_func)(x)\n",
        "    x = tf.keras.layers.Dense(units=32,activation=None)(x)\n",
        "    x = tf.keras.layers.BatchNormalization()(x)\n",
        "    x = tf.keras.layers.Activation(activation=act_func)(x)\n",
        "    outputs = keras.layers.Dense(3, activation='softmax')(x)\n",
        "    \n",
        "    model = keras.Model(inputs=inputs, outputs=outputs)\n",
        "    # Define the optimizer learning rate as a hyperparameter.\n",
        "    learning_rate = 3e-4\n",
        "    optimizer = tf.keras.optimizers.Adam(learning_rate=learning_rate)\n",
        "    model.compile(optimizer=optimizer, loss=tf.keras.losses.CategoricalCrossentropy(), # 교차엔트로피로 구성\n",
        "              metrics=['accuracy'])\n",
        "    \n",
        "    return model\n"
      ],
      "execution_count": null,
      "outputs": []
    },
    {
      "cell_type": "code",
      "metadata": {
        "id": "v6O6oJL342Bf",
        "colab": {
          "base_uri": "https://localhost:8080/",
          "height": 364
        },
        "outputId": "fa6376b2-c938-4488-d00d-cff814a2c9cf"
      },
      "source": [
        "# Keras_tuner 가 정상 작동하는지 확인\n",
        "build_model(kt.HyperParameters())"
      ],
      "execution_count": null,
      "outputs": [
        {
          "output_type": "error",
          "ename": "ValueError",
          "evalue": "ignored",
          "traceback": [
            "\u001b[0;31m---------------------------------------------------------------------------\u001b[0m",
            "\u001b[0;31mValueError\u001b[0m                                Traceback (most recent call last)",
            "\u001b[0;32m<ipython-input-25-399d8131308b>\u001b[0m in \u001b[0;36m<module>\u001b[0;34m()\u001b[0m\n\u001b[1;32m      1\u001b[0m \u001b[0;31m# Keras_tuner 가 정상 작동하는지 확인\u001b[0m\u001b[0;34m\u001b[0m\u001b[0;34m\u001b[0m\u001b[0;34m\u001b[0m\u001b[0m\n\u001b[0;32m----> 2\u001b[0;31m \u001b[0mbuild_model\u001b[0m\u001b[0;34m(\u001b[0m\u001b[0mkt\u001b[0m\u001b[0;34m.\u001b[0m\u001b[0mHyperParameters\u001b[0m\u001b[0;34m(\u001b[0m\u001b[0;34m)\u001b[0m\u001b[0;34m)\u001b[0m\u001b[0;34m\u001b[0m\u001b[0;34m\u001b[0m\u001b[0m\n\u001b[0m",
            "\u001b[0;32m<ipython-input-24-1ecf0f0cc793>\u001b[0m in \u001b[0;36mbuild_model\u001b[0;34m(hp)\u001b[0m\n\u001b[1;32m     15\u001b[0m     \u001b[0mbase_model\u001b[0m\u001b[0;34m.\u001b[0m\u001b[0mtrainable\u001b[0m \u001b[0;34m=\u001b[0m \u001b[0;32mTrue\u001b[0m\u001b[0;34m\u001b[0m\u001b[0;34m\u001b[0m\u001b[0m\n\u001b[1;32m     16\u001b[0m \u001b[0;34m\u001b[0m\u001b[0m\n\u001b[0;32m---> 17\u001b[0;31m     \u001b[0mact_func\u001b[0m \u001b[0;34m=\u001b[0m\u001b[0mmodel_type\u001b[0m \u001b[0;34m=\u001b[0m \u001b[0mhp\u001b[0m\u001b[0;34m.\u001b[0m\u001b[0mChoice\u001b[0m\u001b[0;34m(\u001b[0m\u001b[0;34m\"act_func\"\u001b[0m\u001b[0;34m,\u001b[0m \u001b[0;34m{\u001b[0m\u001b[0;36m0\u001b[0m\u001b[0;34m:\u001b[0m \u001b[0;34m\"relu\"\u001b[0m\u001b[0;34m,\u001b[0m \u001b[0;36m1\u001b[0m\u001b[0;34m:\u001b[0m\u001b[0;34m\"selu\"\u001b[0m\u001b[0;34m,\u001b[0m \u001b[0;36m2\u001b[0m\u001b[0;34m:\u001b[0m\u001b[0;34m\"elu\"\u001b[0m\u001b[0;34m,\u001b[0m \u001b[0;36m3\u001b[0m\u001b[0;34m:\u001b[0m\u001b[0;34m\"softplus\"\u001b[0m\u001b[0;34m}\u001b[0m\u001b[0;34m,\u001b[0m \u001b[0mordered\u001b[0m\u001b[0;34m=\u001b[0m\u001b[0;32mTrue\u001b[0m\u001b[0;34m)\u001b[0m\u001b[0;34m\u001b[0m\u001b[0;34m\u001b[0m\u001b[0m\n\u001b[0m\u001b[1;32m     18\u001b[0m \u001b[0;34m\u001b[0m\u001b[0m\n\u001b[1;32m     19\u001b[0m     \u001b[0minputs\u001b[0m \u001b[0;34m=\u001b[0m \u001b[0mkeras\u001b[0m\u001b[0;34m.\u001b[0m\u001b[0mInput\u001b[0m\u001b[0;34m(\u001b[0m\u001b[0mshape\u001b[0m\u001b[0;34m=\u001b[0m\u001b[0;34m(\u001b[0m\u001b[0;36m320\u001b[0m\u001b[0;34m,\u001b[0m \u001b[0;36m320\u001b[0m\u001b[0;34m,\u001b[0m \u001b[0;36m3\u001b[0m\u001b[0;34m)\u001b[0m\u001b[0;34m)\u001b[0m\u001b[0;34m\u001b[0m\u001b[0;34m\u001b[0m\u001b[0m\n",
            "\u001b[0;32m/usr/local/lib/python3.7/dist-packages/keras_tuner/engine/hyperparameters.py\u001b[0m in \u001b[0;36mChoice\u001b[0;34m(self, name, values, ordered, default, parent_name, parent_values)\u001b[0m\n\u001b[1;32m    791\u001b[0m                 \u001b[0mordered\u001b[0m\u001b[0;34m=\u001b[0m\u001b[0mordered\u001b[0m\u001b[0;34m,\u001b[0m\u001b[0;34m\u001b[0m\u001b[0;34m\u001b[0m\u001b[0m\n\u001b[1;32m    792\u001b[0m                 \u001b[0mdefault\u001b[0m\u001b[0;34m=\u001b[0m\u001b[0mdefault\u001b[0m\u001b[0;34m,\u001b[0m\u001b[0;34m\u001b[0m\u001b[0;34m\u001b[0m\u001b[0m\n\u001b[0;32m--> 793\u001b[0;31m                 \u001b[0mconditions\u001b[0m\u001b[0;34m=\u001b[0m\u001b[0mself\u001b[0m\u001b[0;34m.\u001b[0m\u001b[0m_conditions\u001b[0m\u001b[0;34m,\u001b[0m\u001b[0;34m\u001b[0m\u001b[0;34m\u001b[0m\u001b[0m\n\u001b[0m\u001b[1;32m    794\u001b[0m             )\n\u001b[1;32m    795\u001b[0m             \u001b[0;32mreturn\u001b[0m \u001b[0mself\u001b[0m\u001b[0;34m.\u001b[0m\u001b[0m_retrieve\u001b[0m\u001b[0;34m(\u001b[0m\u001b[0mhp\u001b[0m\u001b[0;34m)\u001b[0m\u001b[0;34m\u001b[0m\u001b[0;34m\u001b[0m\u001b[0m\n",
            "\u001b[0;32m/usr/local/lib/python3.7/dist-packages/keras_tuner/engine/hyperparameters.py\u001b[0m in \u001b[0;36m__init__\u001b[0;34m(self, name, values, ordered, default, **kwargs)\u001b[0m\n\u001b[1;32m    163\u001b[0m         \u001b[0mis_numeric\u001b[0m \u001b[0;34m=\u001b[0m \u001b[0misinstance\u001b[0m\u001b[0;34m(\u001b[0m\u001b[0mvalues\u001b[0m\u001b[0;34m[\u001b[0m\u001b[0;36m0\u001b[0m\u001b[0;34m]\u001b[0m\u001b[0;34m,\u001b[0m \u001b[0;34m(\u001b[0m\u001b[0msix\u001b[0m\u001b[0;34m.\u001b[0m\u001b[0minteger_types\u001b[0m\u001b[0;34m,\u001b[0m \u001b[0mfloat\u001b[0m\u001b[0;34m)\u001b[0m\u001b[0;34m)\u001b[0m\u001b[0;34m\u001b[0m\u001b[0;34m\u001b[0m\u001b[0m\n\u001b[1;32m    164\u001b[0m         \u001b[0;32mif\u001b[0m \u001b[0mself\u001b[0m\u001b[0;34m.\u001b[0m\u001b[0mordered\u001b[0m \u001b[0;32mand\u001b[0m \u001b[0;32mnot\u001b[0m \u001b[0mis_numeric\u001b[0m\u001b[0;34m:\u001b[0m\u001b[0;34m\u001b[0m\u001b[0;34m\u001b[0m\u001b[0m\n\u001b[0;32m--> 165\u001b[0;31m             \u001b[0;32mraise\u001b[0m \u001b[0mValueError\u001b[0m\u001b[0;34m(\u001b[0m\u001b[0;34m\"`ordered` must be `False` for non-numeric \"\u001b[0m \u001b[0;34m\"types.\"\u001b[0m\u001b[0;34m)\u001b[0m\u001b[0;34m\u001b[0m\u001b[0;34m\u001b[0m\u001b[0m\n\u001b[0m\u001b[1;32m    166\u001b[0m         \u001b[0;32mif\u001b[0m \u001b[0mself\u001b[0m\u001b[0;34m.\u001b[0m\u001b[0mordered\u001b[0m \u001b[0;32mis\u001b[0m \u001b[0;32mNone\u001b[0m\u001b[0;34m:\u001b[0m\u001b[0;34m\u001b[0m\u001b[0;34m\u001b[0m\u001b[0m\n\u001b[1;32m    167\u001b[0m             \u001b[0mself\u001b[0m\u001b[0;34m.\u001b[0m\u001b[0mordered\u001b[0m \u001b[0;34m=\u001b[0m \u001b[0mis_numeric\u001b[0m\u001b[0;34m\u001b[0m\u001b[0;34m\u001b[0m\u001b[0m\n",
            "\u001b[0;31mValueError\u001b[0m: `ordered` must be `False` for non-numeric types."
          ]
        }
      ]
    },
    {
      "cell_type": "code",
      "metadata": {
        "id": "MIhKrwwX48lE"
      },
      "source": [
        "tuner = kt.BayesianOptimization(\n",
        "    hypermodel=build_model,\n",
        "    objective=\"val_accuracy\",\n",
        "    max_trials=8,\n",
        "    executions_per_trial=1,\n",
        "    overwrite=True,\n",
        "    directory=\"my_dir\",\n",
        "    project_name=\"helloworld\",\n",
        ")"
      ],
      "execution_count": null,
      "outputs": []
    },
    {
      "cell_type": "code",
      "metadata": {
        "id": "zaBVcsSWfNsn"
      },
      "source": [
        ""
      ],
      "execution_count": null,
      "outputs": []
    },
    {
      "cell_type": "code",
      "metadata": {
        "colab": {
          "base_uri": "https://localhost:8080/"
        },
        "id": "6-LAjPRS5DQf",
        "outputId": "352feb30-0f26-4770-85f2-3105c4738b8c"
      },
      "source": [
        "tuner.search_space_summary()"
      ],
      "execution_count": null,
      "outputs": [
        {
          "output_type": "stream",
          "name": "stdout",
          "text": [
            "Search space summary\n",
            "Default search space size: 1\n",
            "act_func (Choice)\n",
            "{'default': 'relu', 'conditions': [], 'values': ['relu', 'selu', 'elu', 'softplus'], 'ordered': False}\n"
          ]
        }
      ]
    },
    {
      "cell_type": "code",
      "metadata": {
        "id": "WhkJCTgB5Gw-",
        "colab": {
          "base_uri": "https://localhost:8080/",
          "height": 731
        },
        "outputId": "e5f969ce-0789-47ff-864d-15f45a63c8b5"
      },
      "source": [
        "from PIL import ImageFile\n",
        "ImageFile.LOAD_TRUNCATED_IMAGES = True\n",
        "\n",
        "tuner.search(train_data_gen,validation_data=val_data_gen, epochs=7, callbacks=[keras.callbacks.TensorBoard(\"/tmp/tb_logs\")])\n",
        "\n",
        "# 텐서보드 출력\n",
        "%load_ext tensorboard\n",
        "%tensorboard --logdir /tmp/tb_logs"
      ],
      "execution_count": null,
      "outputs": [
        {
          "output_type": "stream",
          "name": "stdout",
          "text": [
            "Trial 4 Complete [00h 42m 50s]\n",
            "val_accuracy: 0.7362204790115356\n",
            "\n",
            "Best val_accuracy So Far: 0.7532808184623718\n",
            "Total elapsed time: 02h 52m 10s\n",
            "\n",
            "Search: Running Trial #5\n",
            "\n",
            "Hyperparameter    |Value             |Best Value So Far \n",
            "act_func          |relu              |relu              \n",
            "\n",
            "Epoch 1/7\n",
            "136/136 [==============================] - 371s 3s/step - loss: 0.4704 - accuracy: 0.8218 - val_loss: 0.7385 - val_accuracy: 0.6877\n",
            "Epoch 2/7\n",
            "136/136 [==============================] - 360s 3s/step - loss: 0.2693 - accuracy: 0.9052 - val_loss: 0.7782 - val_accuracy: 0.6955\n",
            "Epoch 3/7\n",
            " 29/136 [=====>........................] - ETA: 4:29 - loss: 0.2113 - accuracy: 0.9278"
          ]
        },
        {
          "output_type": "error",
          "ename": "KeyboardInterrupt",
          "evalue": "ignored",
          "traceback": [
            "\u001b[0;31m---------------------------------------------------------------------------\u001b[0m",
            "\u001b[0;31mKeyboardInterrupt\u001b[0m                         Traceback (most recent call last)",
            "\u001b[0;32m<ipython-input-14-6e2c31fa70d2>\u001b[0m in \u001b[0;36m<module>\u001b[0;34m()\u001b[0m\n\u001b[1;32m      2\u001b[0m \u001b[0mImageFile\u001b[0m\u001b[0;34m.\u001b[0m\u001b[0mLOAD_TRUNCATED_IMAGES\u001b[0m \u001b[0;34m=\u001b[0m \u001b[0;32mTrue\u001b[0m\u001b[0;34m\u001b[0m\u001b[0;34m\u001b[0m\u001b[0m\n\u001b[1;32m      3\u001b[0m \u001b[0;34m\u001b[0m\u001b[0m\n\u001b[0;32m----> 4\u001b[0;31m \u001b[0mtuner\u001b[0m\u001b[0;34m.\u001b[0m\u001b[0msearch\u001b[0m\u001b[0;34m(\u001b[0m\u001b[0mtrain_data_gen\u001b[0m\u001b[0;34m,\u001b[0m\u001b[0mvalidation_data\u001b[0m\u001b[0;34m=\u001b[0m\u001b[0mval_data_gen\u001b[0m\u001b[0;34m,\u001b[0m \u001b[0mepochs\u001b[0m\u001b[0;34m=\u001b[0m\u001b[0;36m7\u001b[0m\u001b[0;34m,\u001b[0m \u001b[0mcallbacks\u001b[0m\u001b[0;34m=\u001b[0m\u001b[0;34m[\u001b[0m\u001b[0mkeras\u001b[0m\u001b[0;34m.\u001b[0m\u001b[0mcallbacks\u001b[0m\u001b[0;34m.\u001b[0m\u001b[0mTensorBoard\u001b[0m\u001b[0;34m(\u001b[0m\u001b[0;34m\"/tmp/tb_logs\"\u001b[0m\u001b[0;34m)\u001b[0m\u001b[0;34m]\u001b[0m\u001b[0;34m)\u001b[0m\u001b[0;34m\u001b[0m\u001b[0;34m\u001b[0m\u001b[0m\n\u001b[0m\u001b[1;32m      5\u001b[0m \u001b[0;34m\u001b[0m\u001b[0m\n\u001b[1;32m      6\u001b[0m \u001b[0;31m# 텐서보드 출력\u001b[0m\u001b[0;34m\u001b[0m\u001b[0;34m\u001b[0m\u001b[0;34m\u001b[0m\u001b[0m\n",
            "\u001b[0;32m/usr/local/lib/python3.7/dist-packages/keras_tuner/engine/base_tuner.py\u001b[0m in \u001b[0;36msearch\u001b[0;34m(self, *fit_args, **fit_kwargs)\u001b[0m\n\u001b[1;32m    177\u001b[0m \u001b[0;34m\u001b[0m\u001b[0m\n\u001b[1;32m    178\u001b[0m             \u001b[0mself\u001b[0m\u001b[0;34m.\u001b[0m\u001b[0mon_trial_begin\u001b[0m\u001b[0;34m(\u001b[0m\u001b[0mtrial\u001b[0m\u001b[0;34m)\u001b[0m\u001b[0;34m\u001b[0m\u001b[0;34m\u001b[0m\u001b[0m\n\u001b[0;32m--> 179\u001b[0;31m             \u001b[0mresults\u001b[0m \u001b[0;34m=\u001b[0m \u001b[0mself\u001b[0m\u001b[0;34m.\u001b[0m\u001b[0mrun_trial\u001b[0m\u001b[0;34m(\u001b[0m\u001b[0mtrial\u001b[0m\u001b[0;34m,\u001b[0m \u001b[0;34m*\u001b[0m\u001b[0mfit_args\u001b[0m\u001b[0;34m,\u001b[0m \u001b[0;34m**\u001b[0m\u001b[0mfit_kwargs\u001b[0m\u001b[0;34m)\u001b[0m\u001b[0;34m\u001b[0m\u001b[0;34m\u001b[0m\u001b[0m\n\u001b[0m\u001b[1;32m    180\u001b[0m             \u001b[0;31m# `results` is None indicates user updated oracle in `run_trial()`.\u001b[0m\u001b[0;34m\u001b[0m\u001b[0;34m\u001b[0m\u001b[0;34m\u001b[0m\u001b[0m\n\u001b[1;32m    181\u001b[0m             \u001b[0;32mif\u001b[0m \u001b[0mresults\u001b[0m \u001b[0;32mis\u001b[0m \u001b[0;32mNone\u001b[0m\u001b[0;34m:\u001b[0m\u001b[0;34m\u001b[0m\u001b[0;34m\u001b[0m\u001b[0m\n",
            "\u001b[0;32m/usr/local/lib/python3.7/dist-packages/keras_tuner/engine/tuner.py\u001b[0m in \u001b[0;36mrun_trial\u001b[0;34m(self, trial, *args, **kwargs)\u001b[0m\n\u001b[1;32m    302\u001b[0m             \u001b[0mcallbacks\u001b[0m\u001b[0;34m.\u001b[0m\u001b[0mappend\u001b[0m\u001b[0;34m(\u001b[0m\u001b[0mmodel_checkpoint\u001b[0m\u001b[0;34m)\u001b[0m\u001b[0;34m\u001b[0m\u001b[0;34m\u001b[0m\u001b[0m\n\u001b[1;32m    303\u001b[0m             \u001b[0mcopied_kwargs\u001b[0m\u001b[0;34m[\u001b[0m\u001b[0;34m\"callbacks\"\u001b[0m\u001b[0;34m]\u001b[0m \u001b[0;34m=\u001b[0m \u001b[0mcallbacks\u001b[0m\u001b[0;34m\u001b[0m\u001b[0;34m\u001b[0m\u001b[0m\n\u001b[0;32m--> 304\u001b[0;31m             \u001b[0mobj_value\u001b[0m \u001b[0;34m=\u001b[0m \u001b[0mself\u001b[0m\u001b[0;34m.\u001b[0m\u001b[0m_build_and_fit_model\u001b[0m\u001b[0;34m(\u001b[0m\u001b[0mtrial\u001b[0m\u001b[0;34m,\u001b[0m \u001b[0;34m*\u001b[0m\u001b[0margs\u001b[0m\u001b[0;34m,\u001b[0m \u001b[0;34m**\u001b[0m\u001b[0mcopied_kwargs\u001b[0m\u001b[0;34m)\u001b[0m\u001b[0;34m\u001b[0m\u001b[0;34m\u001b[0m\u001b[0m\n\u001b[0m\u001b[1;32m    305\u001b[0m \u001b[0;34m\u001b[0m\u001b[0m\n\u001b[1;32m    306\u001b[0m             \u001b[0;31m# objective left unspecified,\u001b[0m\u001b[0;34m\u001b[0m\u001b[0;34m\u001b[0m\u001b[0;34m\u001b[0m\u001b[0m\n",
            "\u001b[0;32m/usr/local/lib/python3.7/dist-packages/keras_tuner/engine/tuner.py\u001b[0m in \u001b[0;36m_build_and_fit_model\u001b[0;34m(self, trial, *args, **kwargs)\u001b[0m\n\u001b[1;32m    232\u001b[0m         \u001b[0mhp\u001b[0m \u001b[0;34m=\u001b[0m \u001b[0mtrial\u001b[0m\u001b[0;34m.\u001b[0m\u001b[0mhyperparameters\u001b[0m\u001b[0;34m\u001b[0m\u001b[0;34m\u001b[0m\u001b[0m\n\u001b[1;32m    233\u001b[0m         \u001b[0mmodel\u001b[0m \u001b[0;34m=\u001b[0m \u001b[0mself\u001b[0m\u001b[0;34m.\u001b[0m\u001b[0m_try_build\u001b[0m\u001b[0;34m(\u001b[0m\u001b[0mhp\u001b[0m\u001b[0;34m)\u001b[0m\u001b[0;34m\u001b[0m\u001b[0;34m\u001b[0m\u001b[0m\n\u001b[0;32m--> 234\u001b[0;31m         \u001b[0;32mreturn\u001b[0m \u001b[0mself\u001b[0m\u001b[0;34m.\u001b[0m\u001b[0mhypermodel\u001b[0m\u001b[0;34m.\u001b[0m\u001b[0mfit\u001b[0m\u001b[0;34m(\u001b[0m\u001b[0mhp\u001b[0m\u001b[0;34m,\u001b[0m \u001b[0mmodel\u001b[0m\u001b[0;34m,\u001b[0m \u001b[0;34m*\u001b[0m\u001b[0margs\u001b[0m\u001b[0;34m,\u001b[0m \u001b[0;34m**\u001b[0m\u001b[0mkwargs\u001b[0m\u001b[0;34m)\u001b[0m\u001b[0;34m\u001b[0m\u001b[0;34m\u001b[0m\u001b[0m\n\u001b[0m\u001b[1;32m    235\u001b[0m \u001b[0;34m\u001b[0m\u001b[0m\n\u001b[1;32m    236\u001b[0m     \u001b[0;32mdef\u001b[0m \u001b[0mrun_trial\u001b[0m\u001b[0;34m(\u001b[0m\u001b[0mself\u001b[0m\u001b[0;34m,\u001b[0m \u001b[0mtrial\u001b[0m\u001b[0;34m,\u001b[0m \u001b[0;34m*\u001b[0m\u001b[0margs\u001b[0m\u001b[0;34m,\u001b[0m \u001b[0;34m**\u001b[0m\u001b[0mkwargs\u001b[0m\u001b[0;34m)\u001b[0m\u001b[0;34m:\u001b[0m\u001b[0;34m\u001b[0m\u001b[0;34m\u001b[0m\u001b[0m\n",
            "\u001b[0;32m/usr/local/lib/python3.7/dist-packages/keras_tuner/engine/hypermodel.py\u001b[0m in \u001b[0;36mfit\u001b[0;34m(self, hp, model, *args, **kwargs)\u001b[0m\n\u001b[1;32m    135\u001b[0m             \u001b[0mIf\u001b[0m \u001b[0;32mreturn\u001b[0m \u001b[0ma\u001b[0m \u001b[0mfloat\u001b[0m\u001b[0;34m,\u001b[0m \u001b[0mit\u001b[0m \u001b[0mshould\u001b[0m \u001b[0mbe\u001b[0m \u001b[0mthe\u001b[0m\u001b[0;31m \u001b[0m\u001b[0;31m`\u001b[0m\u001b[0mobjective\u001b[0m\u001b[0;31m`\u001b[0m \u001b[0mvalue\u001b[0m\u001b[0;34m.\u001b[0m\u001b[0;34m\u001b[0m\u001b[0;34m\u001b[0m\u001b[0m\n\u001b[1;32m    136\u001b[0m         \"\"\"\n\u001b[0;32m--> 137\u001b[0;31m         \u001b[0;32mreturn\u001b[0m \u001b[0mmodel\u001b[0m\u001b[0;34m.\u001b[0m\u001b[0mfit\u001b[0m\u001b[0;34m(\u001b[0m\u001b[0;34m*\u001b[0m\u001b[0margs\u001b[0m\u001b[0;34m,\u001b[0m \u001b[0;34m**\u001b[0m\u001b[0mkwargs\u001b[0m\u001b[0;34m)\u001b[0m\u001b[0;34m\u001b[0m\u001b[0;34m\u001b[0m\u001b[0m\n\u001b[0m\u001b[1;32m    138\u001b[0m \u001b[0;34m\u001b[0m\u001b[0m\n\u001b[1;32m    139\u001b[0m \u001b[0;34m\u001b[0m\u001b[0m\n",
            "\u001b[0;32m/usr/local/lib/python3.7/dist-packages/keras/utils/traceback_utils.py\u001b[0m in \u001b[0;36merror_handler\u001b[0;34m(*args, **kwargs)\u001b[0m\n\u001b[1;32m     62\u001b[0m     \u001b[0mfiltered_tb\u001b[0m \u001b[0;34m=\u001b[0m \u001b[0;32mNone\u001b[0m\u001b[0;34m\u001b[0m\u001b[0;34m\u001b[0m\u001b[0m\n\u001b[1;32m     63\u001b[0m     \u001b[0;32mtry\u001b[0m\u001b[0;34m:\u001b[0m\u001b[0;34m\u001b[0m\u001b[0;34m\u001b[0m\u001b[0m\n\u001b[0;32m---> 64\u001b[0;31m       \u001b[0;32mreturn\u001b[0m \u001b[0mfn\u001b[0m\u001b[0;34m(\u001b[0m\u001b[0;34m*\u001b[0m\u001b[0margs\u001b[0m\u001b[0;34m,\u001b[0m \u001b[0;34m**\u001b[0m\u001b[0mkwargs\u001b[0m\u001b[0;34m)\u001b[0m\u001b[0;34m\u001b[0m\u001b[0;34m\u001b[0m\u001b[0m\n\u001b[0m\u001b[1;32m     65\u001b[0m     \u001b[0;32mexcept\u001b[0m \u001b[0mException\u001b[0m \u001b[0;32mas\u001b[0m \u001b[0me\u001b[0m\u001b[0;34m:\u001b[0m  \u001b[0;31m# pylint: disable=broad-except\u001b[0m\u001b[0;34m\u001b[0m\u001b[0;34m\u001b[0m\u001b[0m\n\u001b[1;32m     66\u001b[0m       \u001b[0mfiltered_tb\u001b[0m \u001b[0;34m=\u001b[0m \u001b[0m_process_traceback_frames\u001b[0m\u001b[0;34m(\u001b[0m\u001b[0me\u001b[0m\u001b[0;34m.\u001b[0m\u001b[0m__traceback__\u001b[0m\u001b[0;34m)\u001b[0m\u001b[0;34m\u001b[0m\u001b[0;34m\u001b[0m\u001b[0m\n",
            "\u001b[0;32m/usr/local/lib/python3.7/dist-packages/keras/engine/training.py\u001b[0m in \u001b[0;36mfit\u001b[0;34m(self, x, y, batch_size, epochs, verbose, callbacks, validation_split, validation_data, shuffle, class_weight, sample_weight, initial_epoch, steps_per_epoch, validation_steps, validation_batch_size, validation_freq, max_queue_size, workers, use_multiprocessing)\u001b[0m\n\u001b[1;32m   1214\u001b[0m                 _r=1):\n\u001b[1;32m   1215\u001b[0m               \u001b[0mcallbacks\u001b[0m\u001b[0;34m.\u001b[0m\u001b[0mon_train_batch_begin\u001b[0m\u001b[0;34m(\u001b[0m\u001b[0mstep\u001b[0m\u001b[0;34m)\u001b[0m\u001b[0;34m\u001b[0m\u001b[0;34m\u001b[0m\u001b[0m\n\u001b[0;32m-> 1216\u001b[0;31m               \u001b[0mtmp_logs\u001b[0m \u001b[0;34m=\u001b[0m \u001b[0mself\u001b[0m\u001b[0;34m.\u001b[0m\u001b[0mtrain_function\u001b[0m\u001b[0;34m(\u001b[0m\u001b[0miterator\u001b[0m\u001b[0;34m)\u001b[0m\u001b[0;34m\u001b[0m\u001b[0;34m\u001b[0m\u001b[0m\n\u001b[0m\u001b[1;32m   1217\u001b[0m               \u001b[0;32mif\u001b[0m \u001b[0mdata_handler\u001b[0m\u001b[0;34m.\u001b[0m\u001b[0mshould_sync\u001b[0m\u001b[0;34m:\u001b[0m\u001b[0;34m\u001b[0m\u001b[0;34m\u001b[0m\u001b[0m\n\u001b[1;32m   1218\u001b[0m                 \u001b[0mcontext\u001b[0m\u001b[0;34m.\u001b[0m\u001b[0masync_wait\u001b[0m\u001b[0;34m(\u001b[0m\u001b[0;34m)\u001b[0m\u001b[0;34m\u001b[0m\u001b[0;34m\u001b[0m\u001b[0m\n",
            "\u001b[0;32m/usr/local/lib/python3.7/dist-packages/tensorflow/python/util/traceback_utils.py\u001b[0m in \u001b[0;36merror_handler\u001b[0;34m(*args, **kwargs)\u001b[0m\n\u001b[1;32m    148\u001b[0m     \u001b[0mfiltered_tb\u001b[0m \u001b[0;34m=\u001b[0m \u001b[0;32mNone\u001b[0m\u001b[0;34m\u001b[0m\u001b[0;34m\u001b[0m\u001b[0m\n\u001b[1;32m    149\u001b[0m     \u001b[0;32mtry\u001b[0m\u001b[0;34m:\u001b[0m\u001b[0;34m\u001b[0m\u001b[0;34m\u001b[0m\u001b[0m\n\u001b[0;32m--> 150\u001b[0;31m       \u001b[0;32mreturn\u001b[0m \u001b[0mfn\u001b[0m\u001b[0;34m(\u001b[0m\u001b[0;34m*\u001b[0m\u001b[0margs\u001b[0m\u001b[0;34m,\u001b[0m \u001b[0;34m**\u001b[0m\u001b[0mkwargs\u001b[0m\u001b[0;34m)\u001b[0m\u001b[0;34m\u001b[0m\u001b[0;34m\u001b[0m\u001b[0m\n\u001b[0m\u001b[1;32m    151\u001b[0m     \u001b[0;32mexcept\u001b[0m \u001b[0mException\u001b[0m \u001b[0;32mas\u001b[0m \u001b[0me\u001b[0m\u001b[0;34m:\u001b[0m\u001b[0;34m\u001b[0m\u001b[0;34m\u001b[0m\u001b[0m\n\u001b[1;32m    152\u001b[0m       \u001b[0mfiltered_tb\u001b[0m \u001b[0;34m=\u001b[0m \u001b[0m_process_traceback_frames\u001b[0m\u001b[0;34m(\u001b[0m\u001b[0me\u001b[0m\u001b[0;34m.\u001b[0m\u001b[0m__traceback__\u001b[0m\u001b[0;34m)\u001b[0m\u001b[0;34m\u001b[0m\u001b[0;34m\u001b[0m\u001b[0m\n",
            "\u001b[0;32m/usr/local/lib/python3.7/dist-packages/tensorflow/python/eager/def_function.py\u001b[0m in \u001b[0;36m__call__\u001b[0;34m(self, *args, **kwds)\u001b[0m\n\u001b[1;32m    908\u001b[0m \u001b[0;34m\u001b[0m\u001b[0m\n\u001b[1;32m    909\u001b[0m       \u001b[0;32mwith\u001b[0m \u001b[0mOptionalXlaContext\u001b[0m\u001b[0;34m(\u001b[0m\u001b[0mself\u001b[0m\u001b[0;34m.\u001b[0m\u001b[0m_jit_compile\u001b[0m\u001b[0;34m)\u001b[0m\u001b[0;34m:\u001b[0m\u001b[0;34m\u001b[0m\u001b[0;34m\u001b[0m\u001b[0m\n\u001b[0;32m--> 910\u001b[0;31m         \u001b[0mresult\u001b[0m \u001b[0;34m=\u001b[0m \u001b[0mself\u001b[0m\u001b[0;34m.\u001b[0m\u001b[0m_call\u001b[0m\u001b[0;34m(\u001b[0m\u001b[0;34m*\u001b[0m\u001b[0margs\u001b[0m\u001b[0;34m,\u001b[0m \u001b[0;34m**\u001b[0m\u001b[0mkwds\u001b[0m\u001b[0;34m)\u001b[0m\u001b[0;34m\u001b[0m\u001b[0;34m\u001b[0m\u001b[0m\n\u001b[0m\u001b[1;32m    911\u001b[0m \u001b[0;34m\u001b[0m\u001b[0m\n\u001b[1;32m    912\u001b[0m       \u001b[0mnew_tracing_count\u001b[0m \u001b[0;34m=\u001b[0m \u001b[0mself\u001b[0m\u001b[0;34m.\u001b[0m\u001b[0mexperimental_get_tracing_count\u001b[0m\u001b[0;34m(\u001b[0m\u001b[0;34m)\u001b[0m\u001b[0;34m\u001b[0m\u001b[0;34m\u001b[0m\u001b[0m\n",
            "\u001b[0;32m/usr/local/lib/python3.7/dist-packages/tensorflow/python/eager/def_function.py\u001b[0m in \u001b[0;36m_call\u001b[0;34m(self, *args, **kwds)\u001b[0m\n\u001b[1;32m    940\u001b[0m       \u001b[0;31m# In this case we have created variables on the first call, so we run the\u001b[0m\u001b[0;34m\u001b[0m\u001b[0;34m\u001b[0m\u001b[0;34m\u001b[0m\u001b[0m\n\u001b[1;32m    941\u001b[0m       \u001b[0;31m# defunned version which is guaranteed to never create variables.\u001b[0m\u001b[0;34m\u001b[0m\u001b[0;34m\u001b[0m\u001b[0;34m\u001b[0m\u001b[0m\n\u001b[0;32m--> 942\u001b[0;31m       \u001b[0;32mreturn\u001b[0m \u001b[0mself\u001b[0m\u001b[0;34m.\u001b[0m\u001b[0m_stateless_fn\u001b[0m\u001b[0;34m(\u001b[0m\u001b[0;34m*\u001b[0m\u001b[0margs\u001b[0m\u001b[0;34m,\u001b[0m \u001b[0;34m**\u001b[0m\u001b[0mkwds\u001b[0m\u001b[0;34m)\u001b[0m  \u001b[0;31m# pylint: disable=not-callable\u001b[0m\u001b[0;34m\u001b[0m\u001b[0;34m\u001b[0m\u001b[0m\n\u001b[0m\u001b[1;32m    943\u001b[0m     \u001b[0;32melif\u001b[0m \u001b[0mself\u001b[0m\u001b[0;34m.\u001b[0m\u001b[0m_stateful_fn\u001b[0m \u001b[0;32mis\u001b[0m \u001b[0;32mnot\u001b[0m \u001b[0;32mNone\u001b[0m\u001b[0;34m:\u001b[0m\u001b[0;34m\u001b[0m\u001b[0;34m\u001b[0m\u001b[0m\n\u001b[1;32m    944\u001b[0m       \u001b[0;31m# Release the lock early so that multiple threads can perform the call\u001b[0m\u001b[0;34m\u001b[0m\u001b[0;34m\u001b[0m\u001b[0;34m\u001b[0m\u001b[0m\n",
            "\u001b[0;32m/usr/local/lib/python3.7/dist-packages/tensorflow/python/eager/function.py\u001b[0m in \u001b[0;36m__call__\u001b[0;34m(self, *args, **kwargs)\u001b[0m\n\u001b[1;32m   3129\u001b[0m        filtered_flat_args) = self._maybe_define_function(args, kwargs)\n\u001b[1;32m   3130\u001b[0m     return graph_function._call_flat(\n\u001b[0;32m-> 3131\u001b[0;31m         filtered_flat_args, captured_inputs=graph_function.captured_inputs)  # pylint: disable=protected-access\n\u001b[0m\u001b[1;32m   3132\u001b[0m \u001b[0;34m\u001b[0m\u001b[0m\n\u001b[1;32m   3133\u001b[0m   \u001b[0;34m@\u001b[0m\u001b[0mproperty\u001b[0m\u001b[0;34m\u001b[0m\u001b[0;34m\u001b[0m\u001b[0m\n",
            "\u001b[0;32m/usr/local/lib/python3.7/dist-packages/tensorflow/python/eager/function.py\u001b[0m in \u001b[0;36m_call_flat\u001b[0;34m(self, args, captured_inputs, cancellation_manager)\u001b[0m\n\u001b[1;32m   1958\u001b[0m       \u001b[0;31m# No tape is watching; skip to running the function.\u001b[0m\u001b[0;34m\u001b[0m\u001b[0;34m\u001b[0m\u001b[0;34m\u001b[0m\u001b[0m\n\u001b[1;32m   1959\u001b[0m       return self._build_call_outputs(self._inference_function.call(\n\u001b[0;32m-> 1960\u001b[0;31m           ctx, args, cancellation_manager=cancellation_manager))\n\u001b[0m\u001b[1;32m   1961\u001b[0m     forward_backward = self._select_forward_and_backward_functions(\n\u001b[1;32m   1962\u001b[0m         \u001b[0margs\u001b[0m\u001b[0;34m,\u001b[0m\u001b[0;34m\u001b[0m\u001b[0;34m\u001b[0m\u001b[0m\n",
            "\u001b[0;32m/usr/local/lib/python3.7/dist-packages/tensorflow/python/eager/function.py\u001b[0m in \u001b[0;36mcall\u001b[0;34m(self, ctx, args, cancellation_manager)\u001b[0m\n\u001b[1;32m    601\u001b[0m               \u001b[0minputs\u001b[0m\u001b[0;34m=\u001b[0m\u001b[0margs\u001b[0m\u001b[0;34m,\u001b[0m\u001b[0;34m\u001b[0m\u001b[0;34m\u001b[0m\u001b[0m\n\u001b[1;32m    602\u001b[0m               \u001b[0mattrs\u001b[0m\u001b[0;34m=\u001b[0m\u001b[0mattrs\u001b[0m\u001b[0;34m,\u001b[0m\u001b[0;34m\u001b[0m\u001b[0;34m\u001b[0m\u001b[0m\n\u001b[0;32m--> 603\u001b[0;31m               ctx=ctx)\n\u001b[0m\u001b[1;32m    604\u001b[0m         \u001b[0;32melse\u001b[0m\u001b[0;34m:\u001b[0m\u001b[0;34m\u001b[0m\u001b[0;34m\u001b[0m\u001b[0m\n\u001b[1;32m    605\u001b[0m           outputs = execute.execute_with_cancellation(\n",
            "\u001b[0;32m/usr/local/lib/python3.7/dist-packages/tensorflow/python/eager/execute.py\u001b[0m in \u001b[0;36mquick_execute\u001b[0;34m(op_name, num_outputs, inputs, attrs, ctx, name)\u001b[0m\n\u001b[1;32m     57\u001b[0m     \u001b[0mctx\u001b[0m\u001b[0;34m.\u001b[0m\u001b[0mensure_initialized\u001b[0m\u001b[0;34m(\u001b[0m\u001b[0;34m)\u001b[0m\u001b[0;34m\u001b[0m\u001b[0;34m\u001b[0m\u001b[0m\n\u001b[1;32m     58\u001b[0m     tensors = pywrap_tfe.TFE_Py_Execute(ctx._handle, device_name, op_name,\n\u001b[0;32m---> 59\u001b[0;31m                                         inputs, attrs, num_outputs)\n\u001b[0m\u001b[1;32m     60\u001b[0m   \u001b[0;32mexcept\u001b[0m \u001b[0mcore\u001b[0m\u001b[0;34m.\u001b[0m\u001b[0m_NotOkStatusException\u001b[0m \u001b[0;32mas\u001b[0m \u001b[0me\u001b[0m\u001b[0;34m:\u001b[0m\u001b[0;34m\u001b[0m\u001b[0;34m\u001b[0m\u001b[0m\n\u001b[1;32m     61\u001b[0m     \u001b[0;32mif\u001b[0m \u001b[0mname\u001b[0m \u001b[0;32mis\u001b[0m \u001b[0;32mnot\u001b[0m \u001b[0;32mNone\u001b[0m\u001b[0;34m:\u001b[0m\u001b[0;34m\u001b[0m\u001b[0;34m\u001b[0m\u001b[0m\n",
            "\u001b[0;31mKeyboardInterrupt\u001b[0m: "
          ]
        }
      ]
    },
    {
      "cell_type": "code",
      "metadata": {
        "id": "GTvTGaLb-afX",
        "colab": {
          "base_uri": "https://localhost:8080/"
        },
        "outputId": "fb895c0b-0286-4175-d8d1-c841b5de3404"
      },
      "source": [
        "tuner.results_summary()"
      ],
      "execution_count": null,
      "outputs": [
        {
          "output_type": "stream",
          "name": "stdout",
          "text": [
            "Results summary\n",
            "Results in my_dir/helloworld\n",
            "Showing 10 best trials\n",
            "Objective(name='val_accuracy', direction='max')\n",
            "Trial summary\n",
            "Hyperparameters:\n",
            "num_layers: 2\n",
            "units_0: 320\n",
            "units_1: 384\n",
            "Score: 0.75\n",
            "Trial summary\n",
            "Hyperparameters:\n",
            "num_layers: 2\n",
            "units_0: 160\n",
            "units_1: 64\n",
            "Score: 0.75\n",
            "Trial summary\n",
            "Hyperparameters:\n",
            "num_layers: 2\n",
            "units_0: 352\n",
            "units_1: 448\n",
            "Score: 0.6666666865348816\n",
            "Trial summary\n",
            "Hyperparameters:\n",
            "num_layers: 3\n",
            "units_0: 160\n",
            "units_1: 288\n",
            "units_2: 64\n",
            "Score: 0.6666666567325592\n"
          ]
        }
      ]
    },
    {
      "cell_type": "code",
      "metadata": {
        "id": "yMsSjcA53Mnf"
      },
      "source": [
        ""
      ],
      "execution_count": null,
      "outputs": []
    },
    {
      "cell_type": "code",
      "metadata": {
        "id": "GgJZT40A3yvY"
      },
      "source": [
        "my_callbacks = [\n",
        "    tf.keras.callbacks.EarlyStopping(patience=2),\n",
        "    tf.keras.callbacks.ModelCheckpoint(filepath='model.{epoch:02d}-{val_loss:.2f}.h5'),\n",
        "    tf.keras.callbacks.TensorBoard(log_dir='./logs'),\n",
        "]"
      ],
      "execution_count": null,
      "outputs": []
    },
    {
      "cell_type": "code",
      "metadata": {
        "id": "z1YtdbXRC4KO"
      },
      "source": [
        "tf.debugging.set_log_device_placement(False)"
      ],
      "execution_count": null,
      "outputs": []
    },
    {
      "cell_type": "code",
      "metadata": {
        "id": "NQPu91AW3ntu"
      },
      "source": [
        "history = model.fit_generator(\n",
        "    train_data_gen,\n",
        "    steps_per_epoch=train_num//batch_size,     # 한 프로퍼게이션때 한 배치가 쭉 통과하므로 그렇군\n",
        "    epochs= 3,\n",
        "    validation_data = val_data_gen,\n",
        "    validation_steps = val_num//batch_size,\n",
        "    callbacks=[my_callbacks]\n",
        ")"
      ],
      "execution_count": null,
      "outputs": []
    },
    {
      "cell_type": "code",
      "metadata": {
        "id": "0hGotJYw4532"
      },
      "source": [
        ""
      ],
      "execution_count": null,
      "outputs": []
    },
    {
      "cell_type": "code",
      "metadata": {
        "id": "Y3JEByv9Cdii"
      },
      "source": [
        ""
      ],
      "execution_count": null,
      "outputs": []
    },
    {
      "cell_type": "markdown",
      "metadata": {
        "id": "-guhT_hZCetH"
      },
      "source": [
        "# 쓰레기통"
      ]
    },
    {
      "cell_type": "code",
      "metadata": {
        "id": "Rnfm7t4gCdsG"
      },
      "source": [
        "''''''\n",
        "\n",
        "''' [2] Xception 모델\n",
        "def build_model(hp):\n",
        "    base_model = tf.keras.applications.Xception(\n",
        "        include_top=False,\n",
        "        weights=\"imagenet\",\n",
        "        input_tensor=None,\n",
        "        input_shape=None)\n",
        "\n",
        "    # 해당 층의 매개변수는 그대로 사용하기 위해서 freezing 을 한다.\n",
        "    base_model.trainable = True\n",
        "    inputs = keras.Input(shape=(320, 320, 3))\n",
        "    x = base_model(inputs, training=True)\n",
        "    x=keras.layers.GlobalAveragePooling2D()(x)\n",
        "\n",
        "    # l1 과 l2 를 모두 적용을 시키므로, 큰 값은 더욱 작게하기위해 노력을 하고, 또한 0 엣지를 가지게 하기 유리한 L1 을 모두 적용한다.\n",
        "    l1_rate = hp.Float(\"l1_rate\", min_value=1e-5, max_value=1e-1, sampling=\"log\")\n",
        "    l2_rate = hp.Float(\"l2_rate\", min_value=1e-5, max_value=1e-1, sampling=\"log\")\n",
        "\n",
        "    # Tune the number of layers.\n",
        "    for i in range(hp.Int(\"num_layers\", 1, 5)):\n",
        "        # 정규화를 활성화 함수 이전에 배치하면 좋다고 수업시간에 한 학습을 바탕으로 모델링을 진행하였다.\n",
        "        tf.keras.regularizers.l1_l2(l1=l1_rate, l2=l2_rate)\n",
        "        x=keras.layers.Dense(# Tune number of units separately.\n",
        "                units=hp.Int(f\"units_{i}\", min_value=32, max_value=512, step=32),\n",
        "                activation=None, kernel_regularizer='l1_l2')(x)\n",
        "        tf.keras.layers.BatchNormalization()(x),\n",
        "        tf.keras.layers.Activation(activation=hp.Choice(\"activation\", [\"relu\", \"elu\"]))(x)\n",
        "    if hp.Boolean(\"dropout\"):\n",
        "        x = keras.layers.Dropout(0.2)(x)\n",
        "    outputs = keras.layers.Dense(3, activation='softmax')(x)\n",
        "    \n",
        "    model = keras.Model(inputs=inputs, outputs=outputs)\n",
        "    # Define the optimizer learning rate as a hyperparameter.\n",
        "    learning_rate = hp.Float(\"lr\", min_value=1e-4, max_value=1e-2, sampling=\"log\")\n",
        "    \n",
        "    optimizer = tf.keras.optimizers.Adam(learning_rate=learning_rate)\n",
        "    model.compile(optimizer=optimizer, loss=tf.keras.losses.SparseCategoricalCrossentropy(), # 교차엔트로피로 구성\n",
        "              metrics=['accuracy'])\n",
        "    \n",
        "    return model\n",
        "'''"
      ],
      "execution_count": null,
      "outputs": []
    }
  ]
}